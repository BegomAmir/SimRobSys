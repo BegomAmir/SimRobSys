{
 "cells": [
  {
   "cell_type": "markdown",
   "metadata": {},
   "source": [
    "# Sine wave. Forward kinematics. \n",
    "\n",
    "In the previous practice we dealt with step signal. Let's dive into our workout routine with array of elements as a reference. For the sake of simplicity, within this script we deal with sine wave. "
   ]
  },
  {
   "cell_type": "markdown",
   "metadata": {},
   "source": [
    "As always we start with uploading needed libraries"
   ]
  },
  {
   "cell_type": "code",
   "execution_count": 1,
   "metadata": {},
   "outputs": [],
   "source": [
    "from os import path\n",
    "import mujoco\n",
    "import mujoco_viewer\n",
    "import numpy as np"
   ]
  },
  {
   "cell_type": "markdown",
   "metadata": {},
   "source": [
    "Let us declare constant variables such as simulation time `SIMEND`, step numbers `STEP_NUM`, name of  xml file `MODEL_NAME`, and MuJoCo entities: `model` and `data`"
   ]
  },
  {
   "cell_type": "code",
   "execution_count": 2,
   "metadata": {},
   "outputs": [],
   "source": [
    "SIMEND = 10\n",
    "TIMESTEP = 0.002\n",
    "STEP_NUM = int(SIMEND/TIMESTEP)\n",
    "MODEL_NAME = 'two_rot_robot.xml'\n",
    "\n",
    "ROOT = path.abspath('')\n",
    "FOLDER_PATH = path.join(ROOT, '')\n",
    "MODEL_PATH = path.join(FOLDER_PATH, MODEL_NAME)\n",
    "\n",
    "model = mujoco.MjModel.from_xml_path(MODEL_PATH)\n",
    "data = mujoco.MjData(model)"
   ]
  },
  {
   "cell_type": "markdown",
   "metadata": {},
   "source": [
    "Our first activity will involve implementing position-velocity control for the servo.\n",
    "\n",
    "To understand the next piece of code you need to open the xml file and to take a look at `actuator` container. You'll see there a few actuators: (0) `motor`, (1) `position`, (2) velocity for the joint A, and (3) `motor`, (4) `position`, (5) `velocity` for the joint B. To implement servo control we need only position and velocity types, i.e., actuators with IDs 1 and 2 for the joint A, and with IDs 4 and 5 for the joint B. Ids 0 and 3 are needed for torque control."
   ]
  },
  {
   "cell_type": "code",
   "execution_count": 3,
   "metadata": {},
   "outputs": [],
   "source": [
    "def set_position_servo(mjmodel, actuator_no, kp):\n",
    "    mjmodel.actuator_gainprm[actuator_no, 0] = kp\n",
    "    mjmodel.actuator_biasprm[actuator_no, 1] = -kp\n",
    "\n",
    "\n",
    "def set_velocity_servo(mjmodel, actuator_no, kv):\n",
    "    mjmodel.actuator_gainprm[actuator_no, 0] = kv\n",
    "    mjmodel.actuator_biasprm[actuator_no, 2] = -kv\n",
    "\n",
    "def controller(mjmodel, mjdata, ref, i):\n",
    "\n",
    "    ID_POS_A = 1\n",
    "    ID_VEL_A = 2\n",
    "    ID_POS_B = 4\n",
    "    ID_VEL_B = 5\n",
    "    ID_JOINT_A = 0\n",
    "    ID_JOINT_B = 1\n",
    "\n",
    "    set_position_servo(mjmodel, ID_POS_A, 90)\n",
    "    set_velocity_servo(mjmodel, ID_VEL_A, 2)\n",
    "    mjdata.ctrl[ID_POS_A] = ref[ID_JOINT_A][i]\n",
    "    \n",
    "    set_position_servo(mjmodel, ID_POS_B, 90)\n",
    "    set_velocity_servo(mjmodel, ID_VEL_B, 2)\n",
    "    mjdata.ctrl[ID_POS_B] = ref[ID_JOINT_B][i]"
   ]
  },
  {
   "cell_type": "markdown",
   "metadata": {},
   "source": [
    "At this stage we have to create a viewer entity, set control callback, and write a piece of code for the `mj_step` command"
   ]
  },
  {
   "cell_type": "code",
   "execution_count": 4,
   "metadata": {},
   "outputs": [],
   "source": [
    "timeseries = np.linspace(0, SIMEND, STEP_NUM)\n",
    "\n",
    "AMP_1 = np.pi/6 \n",
    "AMP_2 = - np.pi/3\n",
    "FREQ = 1\n",
    "BIAS_1 = np.pi/4\n",
    "BIAS_2 = - np.pi/2\n",
    "\n",
    "ref = [AMP_1 * np.sin(FREQ * timeseries) + BIAS_1,\n",
    "       AMP_2 * np.sin(FREQ * timeseries) + BIAS_2]\n",
    "\n",
    "viewer = mujoco_viewer.MujocoViewer(model, data,\n",
    "                                    title = \"2R_robot\",\n",
    "                                    width = 1920,\n",
    "                                    height = 1080)\n",
    "\n",
    "for i in range(STEP_NUM):\n",
    "    if viewer.is_alive:\n",
    "        mujoco.set_mjcb_control(controller(model, data, ref, i))\n",
    "        mujoco.mj_step(model, data)\n",
    "        viewer.render()\n",
    "    else:\n",
    "        break\n",
    "\n",
    "viewer.close()"
   ]
  },
  {
   "cell_type": "markdown",
   "metadata": {},
   "source": [
    "For extra practice you can make some plots to compare reference and actual motion."
   ]
  }
 ],
 "metadata": {
  "kernelspec": {
   "display_name": "simrobs",
   "language": "python",
   "name": "python3"
  },
  "language_info": {
   "codemirror_mode": {
    "name": "ipython",
    "version": 3
   },
   "file_extension": ".py",
   "mimetype": "text/x-python",
   "name": "python",
   "nbconvert_exporter": "python",
   "pygments_lexer": "ipython3",
   "version": "3.10.12"
  }
 },
 "nbformat": 4,
 "nbformat_minor": 2
}
