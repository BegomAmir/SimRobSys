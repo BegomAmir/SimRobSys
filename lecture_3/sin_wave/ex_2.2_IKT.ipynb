{
 "cells": [
  {
   "cell_type": "markdown",
   "metadata": {},
   "source": [
    "# Sine wave. Inverse kinematics. \n",
    "\n",
    "In the previous practice we dealt with step signal. Let's dive into our workout routine with array of elements as a reference. For the sake of simplicity, within this script we deal with sine wave. "
   ]
  },
  {
   "cell_type": "markdown",
   "metadata": {},
   "source": [
    "As always we start with uploading needed libraries"
   ]
  },
  {
   "cell_type": "code",
   "execution_count": 1,
   "metadata": {},
   "outputs": [],
   "source": [
    "from os import path\n",
    "import mujoco\n",
    "import mujoco_viewer\n",
    "import numpy as np\n",
    "from matplotlib import pyplot as plt"
   ]
  },
  {
   "cell_type": "markdown",
   "metadata": {},
   "source": [
    "Let us declare constant variables such as simulation time `SIMEND`, step numbers `STEP_NUM`, name of  xml file `MODEL_NAME`, and MuJoCo entities: `model` and `data`"
   ]
  },
  {
   "cell_type": "code",
   "execution_count": 2,
   "metadata": {},
   "outputs": [],
   "source": [
    "SIMEND = 10\n",
    "TIMESTEP = 0.002\n",
    "STEP_NUM = int(SIMEND/TIMESTEP)\n",
    "MODEL_NAME = 'two_rot_robot.xml'\n",
    "\n",
    "ROOT = path.abspath('')\n",
    "FOLDER_PATH = path.join(ROOT, '')\n",
    "MODEL_PATH = path.join(FOLDER_PATH, MODEL_NAME)\n",
    "\n",
    "model = mujoco.MjModel.from_xml_path(MODEL_PATH)\n",
    "data = mujoco.MjData(model)"
   ]
  },
  {
   "cell_type": "markdown",
   "metadata": {},
   "source": [
    "Our first activity will involve implementing position-velocity control for the servo.\n",
    "\n",
    "To understand the next piece of code you need to open the xml file and to take a look at `actuator` container. You'll see there a few actuators: (0) `motor`, (1) `position`, (2) velocity for the joint A, and (3) `motor`, (4) `position`, (5) `velocity` for the joint B. To implement servo control we need only position and velocity types, i.e., actuators with IDs 1 and 2 for the joint A, and with IDs 4 and 5 for the joint B. Ids 0 and 3 are needed for torque control."
   ]
  },
  {
   "cell_type": "code",
   "execution_count": 3,
   "metadata": {},
   "outputs": [],
   "source": [
    "def set_position_servo(mjmodel, actuator_no, kp):\n",
    "    mjmodel.actuator_gainprm[actuator_no, 0] = kp\n",
    "    mjmodel.actuator_biasprm[actuator_no, 1] = -kp\n",
    "\n",
    "\n",
    "def set_velocity_servo(mjmodel, actuator_no, kv):\n",
    "    mjmodel.actuator_gainprm[actuator_no, 0] = kv\n",
    "    mjmodel.actuator_biasprm[actuator_no, 2] = -kv\n",
    "\n",
    "def controller(mjmodel, mjdata, ref):\n",
    "\n",
    "    ID_POS_A = 1\n",
    "    ID_VEL_A = 2\n",
    "    ID_POS_B = 4\n",
    "    ID_VEL_B = 5\n",
    "    ID_JOINT_A = 0\n",
    "    ID_JOINT_B = 1\n",
    "\n",
    "    set_position_servo(mjmodel, ID_POS_A, 10)\n",
    "    set_velocity_servo(mjmodel, ID_VEL_A, 1)\n",
    "    mjdata.ctrl[ID_POS_A] = ref[ID_JOINT_A]\n",
    "    \n",
    "    set_position_servo(mjmodel, ID_POS_B, 10)\n",
    "    set_velocity_servo(mjmodel, ID_VEL_B, 1)\n",
    "    mjdata.ctrl[ID_POS_B] = ref[ID_JOINT_B]"
   ]
  },
  {
   "cell_type": "markdown",
   "metadata": {},
   "source": [
    "We have to declare a reference array for the end effector. Here we are using sine wave. "
   ]
  },
  {
   "cell_type": "code",
   "execution_count": 4,
   "metadata": {},
   "outputs": [],
   "source": [
    "FREQ = 1\n",
    "AMP_1 = 0.1\n",
    "AMP_2 = 0.1\n",
    "BIAS_1 = - 0.12\n",
    "BIAS_2 = 0.15\n",
    "\n",
    "timeseries = np.linspace(0, SIMEND, STEP_NUM)\n",
    "end_eff_ref = np.array([AMP_1 * np.sin(FREQ * timeseries) + BIAS_1,\n",
    "                        AMP_2 * np.sin(FREQ * timeseries) + BIAS_2])"
   ]
  },
  {
   "cell_type": "markdown",
   "metadata": {},
   "source": [
    "If we want to start the motion not from a configuration denoted as initial in URDF (or MJCF), but from a custom initial state, we can use `mj_forward` function. \n",
    "\n",
    "For example here we will start our motion from a custom configuration such that the end effector  initial position will match with the `end_eff_ref[0]` "
   ]
  },
  {
   "cell_type": "code",
   "execution_count": 5,
   "metadata": {},
   "outputs": [],
   "source": [
    "theta1 = 1.10\n",
    "theta2 = -2.27\n",
    "ID_JOINT_A = 0\n",
    "ID_JOINT_B = 1\n",
    "data.qpos[ID_JOINT_A] = theta1 # set position\n",
    "data.qpos[ID_JOINT_B] = theta2 # set position\n",
    "mujoco.mj_forward(model, data)"
   ]
  },
  {
   "cell_type": "markdown",
   "metadata": {},
   "source": [
    "I'll add comments regarding the next piece of code later "
   ]
  },
  {
   "cell_type": "code",
   "execution_count": 6,
   "metadata": {},
   "outputs": [],
   "source": [
    "viewer = mujoco_viewer.MujocoViewer(model, data,\n",
    "                                    title = \"2R_robot\",\n",
    "                                    width = 1920,\n",
    "                                    height = 1080)\n",
    "\n",
    "for i in range(STEP_NUM):\n",
    "    if viewer.is_alive:\n",
    "        # 1. Compute Jacobian\n",
    "        tip = data.site_xpos[0]\n",
    "        jacp = np.zeros((3, 2))\n",
    "        mujoco.mj_jac(model, data, jacp, None, tip, 2)\n",
    "        jac = jacp[[0, 2], :]\n",
    "\n",
    "        # 2. Compute inverse Jacobian\n",
    "        jac_inv = np.linalg.inv(jac)\n",
    "\n",
    "        # 3. Compute dX\n",
    "        dX = np.array([end_eff_ref[0][i]-tip[0],\n",
    "                       end_eff_ref[1][i]-tip[2]])\n",
    "\n",
    "        # 4. Compute dq\n",
    "        dq = jac_inv.dot(dX)\n",
    "\n",
    "        # 5. Update theta1 and theta2\n",
    "        theta1 += dq[0]\n",
    "        theta2 += dq[1]\n",
    "\n",
    "        data.qpos[0] = theta1\n",
    "        data.qpos[1] = theta2\n",
    "\n",
    "        if i == 0:\n",
    "            end_eff_act = np.array([data.site_xpos[0]])\n",
    "            theta_act = np.array([[theta1, theta2]])\n",
    "        else:\n",
    "            end_eff_act = np.concatenate((end_eff_act, [np.array(tip)]), axis=0)\n",
    "            theta_act = np.concatenate((theta_act, np.array([[theta1, theta2]])), axis=0)\n",
    "\n",
    "        ref = [theta1, theta2]\n",
    "\n",
    "        mujoco.set_mjcb_control(controller(model, data, ref))\n",
    "        mujoco.mj_step(model, data)\n",
    "        viewer.render()\n",
    "    else:\n",
    "        break\n",
    "\n",
    "viewer.close()"
   ]
  },
  {
   "cell_type": "markdown",
   "metadata": {},
   "source": [
    "For extra practice you can make some plots to compare reference and actual motion."
   ]
  },
  {
   "cell_type": "code",
   "execution_count": 7,
   "metadata": {},
   "outputs": [
    {
     "data": {
      "image/png": "[encoded data removed]",
      "text/plain": [
       "<Figure size 640x480 with 1 Axes>"
      ]
     },
     "metadata": {},
     "output_type": "display_data"
    },
    {
     "data": {
      "image/png": "[encoded data removed]",
      "text/plain": [
       "<Figure size 640x480 with 1 Axes>"
      ]
     },
     "metadata": {},
     "output_type": "display_data"
    }
   ],
   "source": [
    "plt.figure(1)\n",
    "plt.title(\"EE position\")\n",
    "plt.plot(end_eff_act.T[0], end_eff_act.T[2], 'x', label='sim')\n",
    "plt.plot(end_eff_ref[0], end_eff_ref[1], label='ref')\n",
    "plt.gca().set_aspect('equal')\n",
    "plt.ylabel(\"y\")\n",
    "plt.xlabel(\"x\")\n",
    "plt.legend()\n",
    "plt.show(block=False)\n",
    "\n",
    "plt.figure(2)\n",
    "plt.title(\"Angular positions\")\n",
    "plt.plot(timeseries, theta_act.T[0], label='q1')\n",
    "plt.plot(timeseries, theta_act.T[1], label='q2')\n",
    "plt.ylabel(\"q\")\n",
    "plt.xlabel(\"t\")\n",
    "plt.legend()\n",
    "plt.show(block=False)\n",
    "\n",
    "plt.close()"
   ]
  }
 ],
 "metadata": {
  "kernelspec": {
   "display_name": "simrobs",
   "language": "python",
   "name": "python3"
  },
  "language_info": {
   "codemirror_mode": {
    "name": "ipython",
    "version": 3
   },
   "file_extension": ".py",
   "mimetype": "text/x-python",
   "name": "python",
   "nbconvert_exporter": "python",
   "pygments_lexer": "ipython3",
   "version": "3.10.12"
  }
 },
 "nbformat": 4,
 "nbformat_minor": 2
}
