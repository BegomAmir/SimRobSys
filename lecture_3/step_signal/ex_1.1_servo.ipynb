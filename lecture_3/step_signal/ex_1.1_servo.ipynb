{
 "cells": [
  {
   "cell_type": "markdown",
   "metadata": {},
   "source": [
    "# Set pos for a 2R robot\n",
    "\n",
    "In the previous practice we dealt with passive structures. Let's dive into our workout routine with active systems. For the sake of simplicity, within this script we deal with step signal as a reference. "
   ]
  },
  {
   "cell_type": "markdown",
   "metadata": {},
   "source": [
    "As always we start with uploading needed libraries"
   ]
  },
  {
   "cell_type": "code",
   "execution_count": 1,
   "metadata": {},
   "outputs": [],
   "source": [
    "from os import path\n",
    "import mujoco\n",
    "import mujoco_viewer\n",
    "import numpy as np"
   ]
  },
  {
   "cell_type": "markdown",
   "metadata": {},
   "source": [
    "Let us declare constant variables such as simulation time `SIMEND`, step numbers `STEP_NUM`, name of  xml file `MODEL_NAME`, and MuJoCo entities: `model` and `data`"
   ]
  },
  {
   "cell_type": "code",
   "execution_count": 2,
   "metadata": {},
   "outputs": [],
   "source": [
    "SIMEND = 10\n",
    "STEP_NUM = 1000\n",
    "MODEL_NAME = 'open_chain_robot.xml'\n",
    "\n",
    "ROOT = path.abspath('')\n",
    "FOLDER_PATH = path.join(ROOT, '')\n",
    "MODEL_PATH = path.join(FOLDER_PATH, MODEL_NAME)\n",
    "\n",
    "model = mujoco.MjModel.from_xml_path(MODEL_PATH)\n",
    "data = mujoco.MjData(model)"
   ]
  },
  {
   "cell_type": "markdown",
   "metadata": {},
   "source": [
    "Our first activity will involve implementing position-velocity control for the servo, followed by advancing to torque control. \n",
    "\n",
    "To understand the next piece of code you need to open the xml file and to take a look at `actuator` container. You'll see there a few actuators: (0) `motor`, (1) `position`, (2) velocity for the joint A, and (3) `motor`, (4) `position`, (5) `velocity` for the joint B. To implement servo control we need only position and velocity types, i.e., actuators with IDs 1 and 2 for the joint A, and with IDs 4 and 5 for the joint B. Ids 0 and 3 are needed for torque control."
   ]
  },
  {
   "cell_type": "code",
   "execution_count": 3,
   "metadata": {},
   "outputs": [],
   "source": [
    "def set_position_servo(mjmodel, actuator_no, kp):\n",
    "    mjmodel.actuator_gainprm[actuator_no, 0] = kp\n",
    "    mjmodel.actuator_biasprm[actuator_no, 1] = -kp\n",
    "\n",
    "\n",
    "def set_velocity_servo(mjmodel, actuator_no, kv):\n",
    "    mjmodel.actuator_gainprm[actuator_no, 0] = kv\n",
    "    mjmodel.actuator_biasprm[actuator_no, 2] = -kv\n",
    "\n",
    "\n",
    "def controller(mjmodel, mjdata, q_A: float, q_B: float):\n",
    "\n",
    "    ID_POS_A = 1\n",
    "    ID_VEL_A = 2\n",
    "    ID_POS_B = 4\n",
    "    ID_VEL_B = 5\n",
    "\n",
    "    set_position_servo(mjmodel, ID_POS_A, 100)\n",
    "    set_velocity_servo(mjmodel, ID_VEL_A, 10)\n",
    "    mjdata.ctrl[ID_POS_A] = q_A\n",
    "\n",
    "    set_position_servo(mjmodel, ID_POS_B, 40)\n",
    "    set_velocity_servo(mjmodel, ID_VEL_B, 10)\n",
    "    mjdata.ctrl[ID_POS_B] = q_B"
   ]
  },
  {
   "cell_type": "markdown",
   "metadata": {},
   "source": [
    "At this stage we have to create a viewer entity, set control callback, and write a piece of code for the `mj_step` command"
   ]
  },
  {
   "cell_type": "code",
   "execution_count": 4,
   "metadata": {},
   "outputs": [],
   "source": [
    "viewer = mujoco_viewer.MujocoViewer(model, data,\n",
    "                                    title=\"2R_robot\",\n",
    "                                    width=1920,\n",
    "                                    height=1080)\n",
    "\n",
    "for i in range(STEP_NUM):\n",
    "    if viewer.is_alive:\n",
    "        time_prev = data.time\n",
    "        while (data.time - time_prev < 1.0/60.0):\n",
    "            mujoco.set_mjcb_control(controller(model, data, np.pi/2, np.pi/2))\n",
    "            mujoco.mj_step(model, data)            \n",
    "\n",
    "        if (data.time >= SIMEND):\n",
    "            break\n",
    "        viewer.render()\n",
    "    else:\n",
    "        break\n",
    "\n",
    "viewer.close()   "
   ]
  },
  {
   "cell_type": "markdown",
   "metadata": {},
   "source": [
    "And now let us take a look at an example how we can implement the same task, but with torque controlled actuators "
   ]
  },
  {
   "cell_type": "code",
   "execution_count": 5,
   "metadata": {},
   "outputs": [],
   "source": [
    "def set_torque_servo(actuator_no, flag):\n",
    "    if (flag == 0):\n",
    "        model.actuator_gainprm[actuator_no, 0] = 0\n",
    "    else:\n",
    "        model.actuator_gainprm[actuator_no, 0] = 1\n",
    "\n",
    "\n",
    "def controller(model, mjdata, q_A: float, q_B: float):\n",
    "    ID_JOINT_A = 0\n",
    "    ID_JOINT_B = 1\n",
    "    TAU_ID_A = 0\n",
    "    TAU_ID_B = 3\n",
    "    KP = 100\n",
    "    KD = 10\n",
    "\n",
    "    set_torque_servo(0, 1)\n",
    "    mjdata.ctrl[TAU_ID_A] = KP*(q_A-mjdata.qpos[ID_JOINT_A]) + KD*(0-mjdata.qvel[ID_JOINT_A])\n",
    "    mjdata.ctrl[TAU_ID_B] = KP*(q_B-mjdata.qpos[ID_JOINT_B]) + KD*(0-mjdata.qvel[ID_JOINT_B])"
   ]
  },
  {
   "cell_type": "markdown",
   "metadata": {},
   "source": [
    "Create a viewer entity, set control callback, and write a piece of code for the `mj_step` command"
   ]
  },
  {
   "cell_type": "code",
   "execution_count": 6,
   "metadata": {},
   "outputs": [],
   "source": [
    "viewer = mujoco_viewer.MujocoViewer(model, data,\n",
    "                                    title=\"2R_robot\",\n",
    "                                    width=1920,\n",
    "                                    height=1080)\n",
    "\n",
    "for i in range(STEP_NUM):\n",
    "    if viewer.is_alive:\n",
    "        time_prev = data.time\n",
    "        while (data.time - time_prev < 1.0/60.0):\n",
    "            mujoco.set_mjcb_control(controller(model, data, np.pi/2, np.pi/2))\n",
    "            mujoco.mj_step(model, data)\n",
    "            \n",
    "        if (data.time >= SIMEND):\n",
    "            break\n",
    "        viewer.render()\n",
    "    else:\n",
    "        break\n",
    "\n",
    "viewer.close()    "
   ]
  },
  {
   "cell_type": "markdown",
   "metadata": {},
   "source": [
    "Try to change `kp` and `kv`. Also you can change the position reference as extra activity. "
   ]
  }
 ],
 "metadata": {
  "kernelspec": {
   "display_name": "simrobs",
   "language": "python",
   "name": "python3"
  },
  "language_info": {
   "codemirror_mode": {
    "name": "ipython",
    "version": 3
   },
   "file_extension": ".py",
   "mimetype": "text/x-python",
   "name": "python",
   "nbconvert_exporter": "python",
   "pygments_lexer": "ipython3",
   "version": "3.10.12"
  }
 },
 "nbformat": 4,
 "nbformat_minor": 2
}
