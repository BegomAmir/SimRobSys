{
 "cells": [
  {
   "cell_type": "markdown",
   "metadata": {},
   "source": [
    "# Inverse Kinematics for 2R robot with Jacobian"
   ]
  },
  {
   "cell_type": "markdown",
   "metadata": {},
   "source": [
    "Reference trajectory for end-effector is a circle in plane. We have to make an inverse kinematics and find Theta_1 and Theta_2. Also make a PD controller"
   ]
  },
  {
   "cell_type": "markdown",
   "metadata": {},
   "source": [
    "Import necessery libraries"
   ]
  },
  {
   "cell_type": "code",
   "execution_count": 4,
   "metadata": {},
   "outputs": [],
   "source": [
    "import mujoco\n",
    "import mujoco_viewer\n",
    "import matplotlib.pyplot as plt\n",
    "import numpy as np"
   ]
  },
  {
   "cell_type": "markdown",
   "metadata": {},
   "source": [
    "Create model and data"
   ]
  },
  {
   "cell_type": "code",
   "execution_count": 5,
   "metadata": {},
   "outputs": [],
   "source": [
    "model = mujoco.MjModel.from_xml_path('2r_robot_PID.xml')\n",
    "data = mujoco.MjData(model)"
   ]
  },
  {
   "cell_type": "markdown",
   "metadata": {},
   "source": [
    "Create a FUNCTION 'set_torque' where we use PD controller for our joints actuators."
   ]
  },
  {
   "cell_type": "code",
   "execution_count": 6,
   "metadata": {},
   "outputs": [],
   "source": [
    "def set_torque(mj_data, KP, KV, theta_1, theta_2): \n",
    "    data.ctrl[0] = KP * (-mj_data.qpos[0] + theta_1) + KV * (0 - mj_data.qvel[0])\n",
    "    data.ctrl[1] = KP * (-mj_data.qpos[1] + theta_2) + KV * (0 - mj_data.qvel[1])"
   ]
  },
  {
   "cell_type": "markdown",
   "metadata": {},
   "source": [
    "Set initial angles and links' length. Values in radians (rad). Note that 1rad=pi=180 deg"
   ]
  },
  {
   "cell_type": "code",
   "execution_count": 7,
   "metadata": {},
   "outputs": [],
   "source": [
    "theta_1 = 1.9 # initial angle of first joint\n",
    "theta_2 = -2.42 # initial angle of second joint\n",
    "data.joint('joint_1').qpos[0] = theta_1 \n",
    "data.joint('joint_2').qpos[0] = theta_2 \n",
    "l_1 = 1 # first link lenght\n",
    "l_2 = 1 # second link lenght"
   ]
  },
  {
   "cell_type": "markdown",
   "metadata": {},
   "source": [
    "Reference circle movement"
   ]
  },
  {
   "cell_type": "code",
   "execution_count": 8,
   "metadata": {},
   "outputs": [],
   "source": [
    "SIMEND = 10\n",
    "TIMESTEP = 0.002\n",
    "STEP_NUM = int(SIMEND/TIMESTEP)\n",
    "\n",
    "center_circle = [0, 0]\n",
    "circle_radius = 0.5\n",
    "phi = np.linspace(0, 2*np.pi, STEP_NUM)\n",
    "\n",
    "x_ref = center_circle[0] + circle_radius * np.cos(phi)\n",
    "z_ref = center_circle[1] + circle_radius * np.sin(phi)"
   ]
  },
  {
   "cell_type": "markdown",
   "metadata": {},
   "source": [
    "Empty lists for data"
   ]
  },
  {
   "cell_type": "code",
   "execution_count": 9,
   "metadata": {},
   "outputs": [],
   "source": [
    "EE_position_x = [] # empty lists for actual position of end-effector\n",
    "EE_position_z = []"
   ]
  },
  {
   "cell_type": "markdown",
   "metadata": {},
   "source": [
    "Make a viewer. Into FOR loop find Theta_1 and Theta_2 using Jacobian"
   ]
  },
  {
   "cell_type": "code",
   "execution_count": 10,
   "metadata": {},
   "outputs": [
    {
     "name": "stdout",
     "output_type": "stream",
     "text": [
      "[[0. 0.]\n",
      " [0. 0.]]\n"
     ]
    },
    {
     "ename": "LinAlgError",
     "evalue": "Singular matrix",
     "output_type": "error",
     "traceback": [
      "\u001b[1;31m---------------------------------------------------------------------------\u001b[0m",
      "\u001b[1;31mLinAlgError\u001b[0m                               Traceback (most recent call last)",
      "Cell \u001b[1;32mIn[10], line 14\u001b[0m\n\u001b[0;32m     11\u001b[0m \u001b[38;5;28mprint\u001b[39m(J)\n\u001b[0;32m     13\u001b[0m \u001b[38;5;66;03m# Compute inverse Jacobian (J_inv)\u001b[39;00m\n\u001b[1;32m---> 14\u001b[0m J_inv \u001b[38;5;241m=\u001b[39m \u001b[43mnp\u001b[49m\u001b[38;5;241;43m.\u001b[39;49m\u001b[43mlinalg\u001b[49m\u001b[38;5;241;43m.\u001b[39;49m\u001b[43minv\u001b[49m\u001b[43m(\u001b[49m\u001b[43mJ\u001b[49m\u001b[43m)\u001b[49m\n\u001b[0;32m     16\u001b[0m \u001b[38;5;66;03m# Compute dX\u001b[39;00m\n\u001b[0;32m     17\u001b[0m dX \u001b[38;5;241m=\u001b[39m np\u001b[38;5;241m.\u001b[39marray([x_ref[i] \u001b[38;5;241m-\u001b[39m position_EE[\u001b[38;5;241m0\u001b[39m], z_ref[i] \u001b[38;5;241m-\u001b[39m position_EE[\u001b[38;5;241m2\u001b[39m]])\n",
      "File \u001b[1;32mc:\\Users\\boris\\anaconda3\\envs\\olga_test\\lib\\site-packages\\numpy\\linalg\\linalg.py:561\u001b[0m, in \u001b[0;36minv\u001b[1;34m(a)\u001b[0m\n\u001b[0;32m    559\u001b[0m signature \u001b[38;5;241m=\u001b[39m \u001b[38;5;124m'\u001b[39m\u001b[38;5;124mD->D\u001b[39m\u001b[38;5;124m'\u001b[39m \u001b[38;5;28;01mif\u001b[39;00m isComplexType(t) \u001b[38;5;28;01melse\u001b[39;00m \u001b[38;5;124m'\u001b[39m\u001b[38;5;124md->d\u001b[39m\u001b[38;5;124m'\u001b[39m\n\u001b[0;32m    560\u001b[0m extobj \u001b[38;5;241m=\u001b[39m get_linalg_error_extobj(_raise_linalgerror_singular)\n\u001b[1;32m--> 561\u001b[0m ainv \u001b[38;5;241m=\u001b[39m \u001b[43m_umath_linalg\u001b[49m\u001b[38;5;241;43m.\u001b[39;49m\u001b[43minv\u001b[49m\u001b[43m(\u001b[49m\u001b[43ma\u001b[49m\u001b[43m,\u001b[49m\u001b[43m \u001b[49m\u001b[43msignature\u001b[49m\u001b[38;5;241;43m=\u001b[39;49m\u001b[43msignature\u001b[49m\u001b[43m,\u001b[49m\u001b[43m \u001b[49m\u001b[43mextobj\u001b[49m\u001b[38;5;241;43m=\u001b[39;49m\u001b[43mextobj\u001b[49m\u001b[43m)\u001b[49m\n\u001b[0;32m    562\u001b[0m \u001b[38;5;28;01mreturn\u001b[39;00m wrap(ainv\u001b[38;5;241m.\u001b[39mastype(result_t, copy\u001b[38;5;241m=\u001b[39m\u001b[38;5;28;01mFalse\u001b[39;00m))\n",
      "File \u001b[1;32mc:\\Users\\boris\\anaconda3\\envs\\olga_test\\lib\\site-packages\\numpy\\linalg\\linalg.py:112\u001b[0m, in \u001b[0;36m_raise_linalgerror_singular\u001b[1;34m(err, flag)\u001b[0m\n\u001b[0;32m    111\u001b[0m \u001b[38;5;28;01mdef\u001b[39;00m \u001b[38;5;21m_raise_linalgerror_singular\u001b[39m(err, flag):\n\u001b[1;32m--> 112\u001b[0m     \u001b[38;5;28;01mraise\u001b[39;00m LinAlgError(\u001b[38;5;124m\"\u001b[39m\u001b[38;5;124mSingular matrix\u001b[39m\u001b[38;5;124m\"\u001b[39m)\n",
      "\u001b[1;31mLinAlgError\u001b[0m: Singular matrix"
     ]
    },
    {
     "ename": "",
     "evalue": "",
     "output_type": "error",
     "traceback": [
      "\u001b[1;31mThe Kernel crashed while executing code in the current cell or a previous cell. \n",
      "\u001b[1;31mPlease review the code in the cell(s) to identify a possible cause of the failure. \n",
      "\u001b[1;31mClick <a href='https://aka.ms/vscodeJupyterKernelCrash'>here</a> for more info. \n",
      "\u001b[1;31mView Jupyter <a href='command:jupyter.viewOutput'>log</a> for further details."
     ]
    }
   ],
   "source": [
    "viewer = mujoco_viewer.MujocoViewer(model, data)\n",
    "\n",
    "for i in range(STEP_NUM):\n",
    "    if viewer.is_alive:\n",
    "        \n",
    "        # Compute Jacobian (J)\n",
    "        position_EE = data.site_xpos[0]\n",
    "        jacp = np.zeros((3, 2)) # 3 is for XYZ, 2 is for theta_1 and theta_2\n",
    "        mujoco.mj_jac(model, data, jacp, None, position_EE, 2)\n",
    "        J = jacp[[0,2],:] # We leave only the first and third lines associated with X and Z\n",
    "        print(J)\n",
    "\n",
    "        # Compute inverse Jacobian (J_inv)\n",
    "        J_inv = np.linalg.inv(J)\n",
    "\n",
    "        # Compute dX\n",
    "        dX = np.array([x_ref[i] - position_EE[0], z_ref[i] - position_EE[2]])\n",
    "\n",
    "        # Compute dq = J_inv*dX\n",
    "        dq = J_inv.dot(dX)\n",
    "\n",
    "        # Update theta_1 and theta_2\n",
    "        theta_1 += dq[0]\n",
    "        theta_2 += dq[1]\n",
    "\n",
    "        data.joint('joint_1').qpos = theta_1\n",
    "        data.joint('joint_2').qpos = theta_2\n",
    "\n",
    "        i += 1\n",
    "\n",
    "        EE_position_x.append(position_EE[0]) # ACTUAL end-effector X position in xpos (it is a zero element in a nested list / list into list)\n",
    "        EE_position_z.append(position_EE[2]) # ACTUAL z position\n",
    "\n",
    "        mujoco.mj_step(model, data)\n",
    "        viewer.render()\n",
    "    else:\n",
    "        break\n",
    "\n",
    "viewer.close()"
   ]
  }
 ],
 "metadata": {
  "kernelspec": {
   "display_name": "olga_test",
   "language": "python",
   "name": "python3"
  },
  "language_info": {
   "codemirror_mode": {
    "name": "ipython",
    "version": 3
   },
   "file_extension": ".py",
   "mimetype": "text/x-python",
   "name": "python",
   "nbconvert_exporter": "python",
   "pygments_lexer": "ipython3",
   "version": "3.10.14"
  }
 },
 "nbformat": 4,
 "nbformat_minor": 2
}
