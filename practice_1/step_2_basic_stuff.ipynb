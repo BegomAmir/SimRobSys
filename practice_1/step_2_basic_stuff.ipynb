{
 "cells": [
  {
   "cell_type": "markdown",
   "metadata": {},
   "source": [
    "# Second tutorial"
   ]
  },
  {
   "cell_type": "markdown",
   "metadata": {},
   "source": [
    "This tutorial is inspired by the official **[set of tutorials](https://colab.research.google.com/github/google-deepmind/mujoco/blob/main/python/tutorial.ipynb)** that you have to study.  "
   ]
  },
  {
   "cell_type": "markdown",
   "metadata": {},
   "source": [
    "# MuJoCo basics"
   ]
  },
  {
   "cell_type": "markdown",
   "metadata": {},
   "source": [
    "As always first we need to upload all needed libraries. Here we are going to use mujoco and mujoco-python-viewer. You can use the default viewer that I used in the previous example, but I like the custom one. "
   ]
  },
  {
   "cell_type": "code",
   "execution_count": 57,
   "metadata": {},
   "outputs": [],
   "source": [
    "import mujoco\n",
    "import mujoco_viewer"
   ]
  },
  {
   "cell_type": "markdown",
   "metadata": {},
   "source": [
    "Here I have created some weird model written in MJCF and saved as xml file. Since I did not save it as a separate file, we are using `from_xml_string` method to create MuJoCo model entity. "
   ]
  },
  {
   "cell_type": "code",
   "execution_count": 58,
   "metadata": {},
   "outputs": [],
   "source": [
    "xml = \"\"\"\n",
    "<mujoco>\n",
    "  <worldbody>\n",
    "    <light name=\"top\" pos=\"0 0 1\"/>\n",
    "    <body name=\"box_and_sphere\" euler=\"0 0 -30\">\n",
    "      <joint name=\"swing\" type=\"hinge\" axis=\"1 -1 0\" pos=\"-.2 -.2 -.2\"/>\n",
    "      <geom name=\"red_box\" type=\"box\" size=\".2 .2 .2\" rgba=\"1 0 0 1\"/>\n",
    "      <geom name=\"green_sphere\" pos=\".2 .2 .2\" size=\".1\" rgba=\"0 1 0 1\"/>\n",
    "      <geom name=\"blue_cylinder\" type=\"cylinder\" pos=\"0.1 -0.2 0.0\" size=\"0.1 0.2\" rgba=\"0 0 1 1\"/>\n",
    "    </body>\n",
    "  </worldbody>\n",
    "</mujoco>\n",
    "\"\"\"\n",
    "\n",
    "model = mujoco.MjModel.from_xml_string(xml)"
   ]
  },
  {
   "cell_type": "markdown",
   "metadata": {},
   "source": [
    "The `xml` string is written in MuJoCo's [MJCF](http://www.mujoco.org/book/modeling.html), which is an [XML](https://en.wikipedia.org/wiki/XML#Key_terminology)-based modeling language.\n",
    "  - The only required element is `<mujoco>`. The smallest valid MJCF model is `<mujoco/>` which is a completely empty model.\n",
    "  - All physical elements live inside the `<worldbody>` which is always the top-level body and constitutes the global origin in Cartesian coordinates.\n",
    "  - We define two geoms in the world named `red_box` and `green_sphere`.\n",
    "  - **Question:** The `red_box` has no position, the `green_sphere` has no type, why is that?\n",
    "    - **Answer:** MJCF attributes have *default values*. The default position is `0 0 0`, the default geom type is `sphere`. The MJCF language is described in the documentation's [XML Reference chapter](https://mujoco.readthedocs.io/en/latest/XMLreference.html).\n",
    "\n",
    "The `from_xml_string()` method invokes the model compiler, which creates a binary `mjModel` instance."
   ]
  },
  {
   "cell_type": "markdown",
   "metadata": {},
   "source": [
    "## mjModel\n",
    "\n",
    "MuJoCo's `mjModel`, contains the *model description*, i.e., all quantities which *do not change over time*. The complete description of `mjModel` can be found at the end of the header file [`mjmodel.h`](https://github.com/deepmind/mujoco/blob/main/include/mujoco/mjmodel.h). Note that the header files contain short, useful inline comments, describing each field.\n",
    "\n",
    "Examples of quantities that can be found in `mjModel` are `ngeom`, the number of geoms in the scene and `geom_rgba`, their respective colors:"
   ]
  },
  {
   "cell_type": "code",
   "execution_count": 59,
   "metadata": {},
   "outputs": [
    {
     "data": {
      "text/plain": [
       "3"
      ]
     },
     "execution_count": 59,
     "metadata": {},
     "output_type": "execute_result"
    }
   ],
   "source": [
    "model.ngeom"
   ]
  },
  {
   "cell_type": "code",
   "execution_count": 60,
   "metadata": {},
   "outputs": [
    {
     "data": {
      "text/plain": [
       "array([[1., 0., 0., 1.],\n",
       "       [0., 1., 0., 1.],\n",
       "       [0., 0., 1., 1.]], dtype=float32)"
      ]
     },
     "execution_count": 60,
     "metadata": {},
     "output_type": "execute_result"
    }
   ],
   "source": [
    "model.geom_rgba"
   ]
  },
  {
   "cell_type": "markdown",
   "metadata": {},
   "source": [
    "## Named access\n",
    "\n",
    "The MuJoCo Python bindings provide convenient [accessors](https://mujoco.readthedocs.io/en/latest/python.html#named-access) using names. Calling the `model.geom()` accessor without a name string generates a convenient error that tells us what the valid names are."
   ]
  },
  {
   "cell_type": "code",
   "execution_count": 61,
   "metadata": {},
   "outputs": [
    {
     "name": "stdout",
     "output_type": "stream",
     "text": [
      "\"Invalid name ''. Valid names: ['blue_cylinder', 'green_sphere', 'red_box']\"\n"
     ]
    }
   ],
   "source": [
    "try:\n",
    "  model.geom()\n",
    "except KeyError as e:\n",
    "  print(e)"
   ]
  },
  {
   "cell_type": "markdown",
   "metadata": {},
   "source": [
    "Calling the named accessor without specifying a property will tell us what all the valid properties are:"
   ]
  },
  {
   "cell_type": "code",
   "execution_count": 62,
   "metadata": {},
   "outputs": [
    {
     "data": {
      "text/plain": [
       "<_MjModelGeomViews\n",
       "  bodyid: array([1], dtype=int32)\n",
       "  conaffinity: array([1], dtype=int32)\n",
       "  condim: array([3], dtype=int32)\n",
       "  contype: array([1], dtype=int32)\n",
       "  dataid: array([-1], dtype=int32)\n",
       "  friction: array([1.e+00, 5.e-03, 1.e-04])\n",
       "  gap: array([0.])\n",
       "  group: array([0], dtype=int32)\n",
       "  id: 1\n",
       "  margin: array([0.])\n",
       "  matid: array([-1], dtype=int32)\n",
       "  name: 'green_sphere'\n",
       "  pos: array([0.2, 0.2, 0.2])\n",
       "  priority: array([0], dtype=int32)\n",
       "  quat: array([1., 0., 0., 0.])\n",
       "  rbound: array([0.1])\n",
       "  rgba: array([0., 1., 0., 1.], dtype=float32)\n",
       "  sameframe: array([0], dtype=uint8)\n",
       "  size: array([0.1, 0. , 0. ])\n",
       "  solimp: array([9.0e-01, 9.5e-01, 1.0e-03, 5.0e-01, 2.0e+00])\n",
       "  solmix: array([1.])\n",
       "  solref: array([0.02, 1.  ])\n",
       "  type: array([2], dtype=int32)\n",
       "  user: array([], dtype=float64)\n",
       ">"
      ]
     },
     "execution_count": 62,
     "metadata": {},
     "output_type": "execute_result"
    }
   ],
   "source": [
    "model.geom('green_sphere')"
   ]
  },
  {
   "cell_type": "markdown",
   "metadata": {},
   "source": [
    "Let's read the `green_sphere`'s rgba values:"
   ]
  },
  {
   "cell_type": "code",
   "execution_count": 63,
   "metadata": {},
   "outputs": [
    {
     "data": {
      "text/plain": [
       "array([0., 1., 0., 1.], dtype=float32)"
      ]
     },
     "execution_count": 63,
     "metadata": {},
     "output_type": "execute_result"
    }
   ],
   "source": [
    "model.geom('green_sphere').rgba"
   ]
  },
  {
   "cell_type": "markdown",
   "metadata": {},
   "source": [
    "This functionality is a convenience shortcut for MuJoCo's [`mj_name2id`](https://mujoco.readthedocs.io/en/latest/APIreference.html?highlight=mj_name2id#mj-name2id) function:"
   ]
  },
  {
   "cell_type": "code",
   "execution_count": 64,
   "metadata": {},
   "outputs": [
    {
     "data": {
      "text/plain": [
       "array([0., 1., 0., 1.], dtype=float32)"
      ]
     },
     "execution_count": 64,
     "metadata": {},
     "output_type": "execute_result"
    }
   ],
   "source": [
    "id = mujoco.mj_name2id(model, mujoco.mjtObj.mjOBJ_GEOM, 'green_sphere')\n",
    "model.geom_rgba[id, :]"
   ]
  },
  {
   "cell_type": "markdown",
   "metadata": {},
   "source": [
    "Similarly, the read-only `id` and `name` properties can be used to convert from id to name and back:"
   ]
  },
  {
   "cell_type": "code",
   "execution_count": 65,
   "metadata": {},
   "outputs": [
    {
     "name": "stdout",
     "output_type": "stream",
     "text": [
      "id of \"green_sphere\":  1\n",
      "name of geom 1:  green_sphere\n",
      "name of body 0:  world\n"
     ]
    }
   ],
   "source": [
    "print('id of \"green_sphere\": ', model.geom('green_sphere').id)\n",
    "print('name of geom 1: ', model.geom(1).name)\n",
    "print('name of body 0: ', model.body(0).name)"
   ]
  },
  {
   "cell_type": "markdown",
   "metadata": {},
   "source": [
    "Note that the 0th body is always the `world`. It cannot be renamed.\n",
    "\n",
    "The `id` and `name` attributes are useful in Python comprehensions:"
   ]
  },
  {
   "cell_type": "code",
   "execution_count": 66,
   "metadata": {},
   "outputs": [
    {
     "data": {
      "text/plain": [
       "['red_box', 'green_sphere', 'blue_cylinder']"
      ]
     },
     "execution_count": 66,
     "metadata": {},
     "output_type": "execute_result"
    }
   ],
   "source": [
    "[model.geom(i).name for i in range(model.ngeom)]"
   ]
  },
  {
   "cell_type": "code",
   "execution_count": 67,
   "metadata": {},
   "outputs": [
    {
     "name": "stdout",
     "output_type": "stream",
     "text": [
      "\n",
      "The number of geoms is 3. Geom colors are [[1. 0. 0. 1.]\n",
      " [0. 1. 0. 1.]\n",
      " [0. 0. 1. 1.]]\n",
      "[0.2 0.2 0.2]\n",
      "\n",
      "ID of the red_box is 0\n",
      "Name of the object with ID=1 is green_sphere\n",
      "Name of the object with ID=0 is red_box\n",
      "Pos of the object with ID=0 is [0. 0. 0.]\n",
      "Quat of the object with ID=0 is [1. 0. 0. 0.]\n"
     ]
    }
   ],
   "source": [
    "print(f\"\\nThe number of geoms is {model.ngeom}. Geom colors are {model.geom_rgba}\")\n",
    "print(model.geom(\"green_sphere\").pos)\n",
    "\n",
    "id_1 = mujoco.mj_name2id(model, mujoco.mjtObj.mjOBJ_GEOM, 'green_sphere')\n",
    "id_2 = model.geom('red_box').id\n",
    "id_2_2 = mujoco.mj_name2id(model, mujoco.mjtObj.mjOBJ_GEOM, 'red_box')\n",
    "print(f\"\\nID of the red_box is {id_2}\")\n",
    "print(f\"Name of the object with ID={id_1} is {model.geom(id_1).name}\")\n",
    "print(f\"Name of the object with ID={id_2} is {model.geom(id_2).name}\")\n",
    "print(f\"Pos of the object with ID={id_2} is {model.geom(id_2).pos}\")\n",
    "print(f\"Quat of the object with ID={id_2_2} is {model.geom(id_2_2).quat}\")"
   ]
  },
  {
   "cell_type": "markdown",
   "metadata": {},
   "source": [
    "## `mjData`\n",
    "`mjData` contains the *state* and quantities that depend on it. The state is made up of time, [generalized](https://en.wikipedia.org/wiki/Generalized_coordinates) positions and generalized velocities. These are respectively `data.time`, `data.qpos` and `data.qvel`. In order to make a new `mjData`, all we need is our `mjModel`"
   ]
  },
  {
   "cell_type": "code",
   "execution_count": 68,
   "metadata": {},
   "outputs": [],
   "source": [
    "data = mujoco.MjData(model)"
   ]
  },
  {
   "cell_type": "markdown",
   "metadata": {},
   "source": [
    "`mjData` also contains *functions of the state*, for example the Cartesian positions of objects in the world frame. The (x, y, z) positions of our two geoms are in `data.geom_xpos`:"
   ]
  },
  {
   "cell_type": "code",
   "execution_count": 69,
   "metadata": {},
   "outputs": [
    {
     "data": {
      "text/plain": [
       "array([[0., 0., 0.],\n",
       "       [0., 0., 0.],\n",
       "       [0., 0., 0.]])"
      ]
     },
     "execution_count": 69,
     "metadata": {},
     "output_type": "execute_result"
    }
   ],
   "source": [
    "data.geom_xpos"
   ]
  },
  {
   "cell_type": "markdown",
   "metadata": {},
   "source": [
    "Wait, why are both of our geoms at the origin? Didn't we offset the green sphere? The answer is that derived quantities in `mjData` need to be explicitly propagated (see [below](#scrollTo=QY1gpms1HXeN)). In our case, the minimal required function is [`mj_kinematics`](https://mujoco.readthedocs.io/en/latest/APIreference.html#mj-kinematics), which computes global Cartesian poses for all objects (excluding cameras and lights)."
   ]
  },
  {
   "cell_type": "code",
   "execution_count": 70,
   "metadata": {},
   "outputs": [
    {
     "name": "stdout",
     "output_type": "stream",
     "text": [
      "raw access:\n",
      " [[ 0.          0.          0.        ]\n",
      " [ 0.27320508  0.07320508  0.2       ]\n",
      " [-0.01339746 -0.22320508  0.        ]]\n",
      "\n",
      "named access:\n",
      " [0.27320508 0.07320508 0.2       ]\n"
     ]
    }
   ],
   "source": [
    "mujoco.mj_kinematics(model, data)\n",
    "print('raw access:\\n', data.geom_xpos)\n",
    "\n",
    "# MjData also supports named access:\n",
    "print('\\nnamed access:\\n', data.geom('green_sphere').xpos)"
   ]
  },
  {
   "cell_type": "code",
   "execution_count": 71,
   "metadata": {},
   "outputs": [
    {
     "name": "stdout",
     "output_type": "stream",
     "text": [
      "\n",
      "Time is 0.0\n",
      "Pos of all geoms is [[ 0.          0.          0.        ]\n",
      " [ 0.27320508  0.07320508  0.2       ]\n",
      " [-0.01339746 -0.22320508  0.        ]]\n",
      "q_pos of all geoms is [0.]\n",
      "q_vel of all geoms is [0.]\n"
     ]
    }
   ],
   "source": [
    "print(f\"\\nTime is {data.time}\")\n",
    "print(f\"Pos of all geoms is {data.geom_xpos}\")\n",
    "print(f\"q_pos of all geoms is {data.qpos}\")\n",
    "print(f\"q_vel of all geoms is {data.qvel}\")"
   ]
  },
  {
   "cell_type": "markdown",
   "metadata": {},
   "source": [
    "# Options\n",
    "\n",
    "Few code lines to show how you can operate on options. "
   ]
  },
  {
   "cell_type": "code",
   "execution_count": 72,
   "metadata": {},
   "outputs": [
    {
     "name": "stdout",
     "output_type": "stream",
     "text": [
      "Timestep is 0.002\n",
      "Gravity is [0.   0.   9.81]\n",
      "Total number of DoFs in the model: 1\n",
      "Generalized positions: [0.]\n",
      "Generalized velocities: [0.]\n"
     ]
    }
   ],
   "source": [
    "model.opt.gravity = [0, 0, 9.81]\n",
    "print(f\"Timestep is {model.opt.timestep}\")\n",
    "print(f\"Gravity is {model.opt.gravity}\")\n",
    "\n",
    "print('Total number of DoFs in the model:', model.nv)\n",
    "print('Generalized positions:', data.qpos)\n",
    "print('Generalized velocities:', data.qvel)"
   ]
  },
  {
   "cell_type": "markdown",
   "metadata": {},
   "source": [
    "# Basic rendering, simulation, and animation\n",
    "\n",
    "In order to render we'll need to instantiate a `Renderer` object and call its `render` method.\n",
    "\n",
    "We'll also reload our model to make the colab's sections independent."
   ]
  },
  {
   "cell_type": "code",
   "execution_count": 73,
   "metadata": {},
   "outputs": [],
   "source": [
    "viewer = mujoco_viewer.MujocoViewer(model, data, title=\"tutorial\", width=1920, height=1080)\n",
    "while viewer.is_alive:\n",
    "    mujoco.mj_step(model, data)\n",
    "\n",
    "    viewer.render()\n",
    "\n",
    "viewer.close()   "
   ]
  }
 ],
 "metadata": {
  "kernelspec": {
   "display_name": "simrobs",
   "language": "python",
   "name": "python3"
  },
  "language_info": {
   "codemirror_mode": {
    "name": "ipython",
    "version": 3
   },
   "file_extension": ".py",
   "mimetype": "text/x-python",
   "name": "python",
   "nbconvert_exporter": "python",
   "pygments_lexer": "ipython3",
   "version": "3.10.12"
  }
 },
 "nbformat": 4,
 "nbformat_minor": 2
}
