{
 "cells": [
  {
   "cell_type": "markdown",
   "metadata": {},
   "source": [
    "# Quick start with pinocchio\n",
    "\n",
    "Within this script we are going to\n",
    "1. create a simple URDF model by hands, and compute inertia parameters for the bodies using `trimesh`\n",
    "2. Pinocchio + meshcat\n",
    "3. and try command for model and data from **[Pinocchio Cheat Sheet](https://github.com/stack-of-tasks/pinocchio/blob/master/doc/pinocchio_cheat_sheet.pdf)**"
   ]
  },
  {
   "cell_type": "markdown",
   "metadata": {},
   "source": [
    "# 1. URDF + trimesh\n",
    "\n",
    "**[URDF](https://arxiv.org/pdf/2308.00514)**, Unified Robot Description Format is an XML format for representing a robot model. URDF was initially been designed ti be used in Robot Operating System (ROS) tools and Gazebo simulator, but now most of simulators uses that format.\n",
    "\n",
    "The **[URDF](https://wiki.ros.org/urdf/XML)** model consists of links and joints motion; the default URDF can be used for open chains only, for the closed chains extra steps must be done. \n",
    "\n",
    "File `two_bodies.urdf` contains 3 links:\n",
    "* `world` which acts as a fixed root\n",
    "* `body_one` is connected with `world` via `fixed_joint`\n",
    "* `body_two` is related to `world` via `floating_joint`\n",
    "\n",
    "<b>body_one</b>\n",
    "Let us pick box shape for the `body_one` and pick sizes as [.4, .2, .1] m. The sizes must be written in `geometry` container. \n",
    "\n",
    "In order to fill in data to the `inertial` container, we need to compute data using `trimesh`."
   ]
  },
  {
   "cell_type": "code",
   "execution_count": null,
   "metadata": {},
   "outputs": [],
   "source": [
    "import trimesh as tr\n",
    "\n",
    "box_one = tr.primitives.Box(extents = [.4, .2, .1])\n",
    "box_one.density = 7800 # ~steel\n",
    "print(f'mass = {box_one.mass}') # [kg]\n",
    "print(f'inertia = {box_one.moment_inertia}') # [kg * m**2]"
   ]
  },
  {
   "cell_type": "markdown",
   "metadata": {},
   "source": [
    "Now you can fill in `mass` and `inertia` values.\n",
    "\n",
    "<b>body_two</b>\n",
    "\n",
    "For the second body let us choose a cylinder shape. "
   ]
  },
  {
   "cell_type": "code",
   "execution_count": null,
   "metadata": {},
   "outputs": [],
   "source": [
    "cylinder = tr.primitives.Cylinder(radius=.05, height=.15)\n",
    "cylinder_mass = 5\n",
    "cylinder.density = cylinder_mass / cylinder.volume\n",
    "print(cylinder.moment_inertia)"
   ]
  },
  {
   "cell_type": "markdown",
   "metadata": {},
   "source": [
    "We can also us apply coordinate transformation if it is needed. "
   ]
  },
  {
   "cell_type": "code",
   "execution_count": null,
   "metadata": {},
   "outputs": [],
   "source": [
    "rotation = tr.transformations.euler_matrix(1, 0, 0, axes='sxyz')\n",
    "cylinder.apply_transform(rotation)\n",
    "cylinder.show()\n",
    "print(cylinder.moment_inertia)"
   ]
  },
  {
   "cell_type": "markdown",
   "metadata": {},
   "source": [
    "Now you can fill in `mass` and `inertia` values for the second body."
   ]
  },
  {
   "cell_type": "markdown",
   "metadata": {},
   "source": [
    "# 2. Pinocchio + meshcat"
   ]
  },
  {
   "cell_type": "code",
   "execution_count": null,
   "metadata": {},
   "outputs": [],
   "source": [
    "from os import path\n",
    "import pinocchio as pin\n",
    "from pinocchio.visualize import MeshcatVisualizer\n",
    "import meshcat"
   ]
  },
  {
   "cell_type": "code",
   "execution_count": 95,
   "metadata": {},
   "outputs": [],
   "source": [
    "MODEL_NAME = \"two_bodies.urdf\"\n",
    "ROOT = path.abspath('')\n",
    "FOLDER_PATH = path.join(ROOT, '')\n",
    "MODEL_PATH = path.join(FOLDER_PATH, MODEL_NAME)\n",
    "\n",
    "model, collision_model, visual_model = pin.buildModelsFromUrdf(MODEL_PATH, None, pin.JointModelFreeFlyer())\n",
    "data = model.createData()"
   ]
  },
  {
   "cell_type": "code",
   "execution_count": 96,
   "metadata": {},
   "outputs": [
    {
     "name": "stdout",
     "output_type": "stream",
     "text": [
      "You can open the visualizer by visiting the following URL:\n",
      "http://127.0.0.1:7000/static/\n"
     ]
    }
   ],
   "source": [
    "viz = MeshcatVisualizer(model, collision_model, visual_model)\n",
    "viz.viewer = meshcat.Visualizer(zmq_url=\"tcp://127.0.0.1:6000\")\n",
    "viz.clean()\n",
    "# meshcat-server --open\n",
    "\n",
    "# Load the robot in the viewer.\n",
    "viz.loadViewerModel()\n",
    "\n",
    "# Display a robot configuration.\n",
    "q0 = pin.neutral(model)\n",
    "viz.display(q0)\n",
    "viz.displayVisuals(True)"
   ]
  },
  {
   "cell_type": "code",
   "execution_count": null,
   "metadata": {},
   "outputs": [],
   "source": [
    "hasattr(viz.viewer, 'jupyter_cell') and viz.viewer.jupyter_cell()"
   ]
  },
  {
   "cell_type": "markdown",
   "metadata": {},
   "source": [
    "# 3. Model"
   ]
  },
  {
   "cell_type": "code",
   "execution_count": 77,
   "metadata": {},
   "outputs": [
    {
     "data": {
      "text/plain": [
       "'two_bodies'"
      ]
     },
     "execution_count": 77,
     "metadata": {},
     "output_type": "execute_result"
    }
   ],
   "source": [
    "model.name"
   ]
  },
  {
   "cell_type": "code",
   "execution_count": 78,
   "metadata": {},
   "outputs": [
    {
     "data": {
      "text/plain": [
       "['universe', 'root_joint', 'floating_joint_cylinder', 'floating_joint_sphere']"
      ]
     },
     "execution_count": 78,
     "metadata": {},
     "output_type": "execute_result"
    }
   ],
   "source": [
    "model.names.tolist()"
   ]
  },
  {
   "cell_type": "code",
   "execution_count": 79,
   "metadata": {},
   "outputs": [
    {
     "data": {
      "text/plain": [
       "[JointModelRX\n",
       "   index: 18446744073709551615\n",
       "   index q: -1\n",
       "   index v: -1\n",
       "   nq: 1\n",
       "   nv: 1,\n",
       " JointModelFreeFlyer\n",
       "   index: 1\n",
       "   index q: 0\n",
       "   index v: 0\n",
       "   nq: 7\n",
       "   nv: 6,\n",
       " JointModelFreeFlyer\n",
       "   index: 2\n",
       "   index q: 7\n",
       "   index v: 6\n",
       "   nq: 7\n",
       "   nv: 6,\n",
       " JointModelFreeFlyer\n",
       "   index: 3\n",
       "   index q: 14\n",
       "   index v: 12\n",
       "   nq: 7\n",
       "   nv: 6]"
      ]
     },
     "execution_count": 79,
     "metadata": {},
     "output_type": "execute_result"
    }
   ],
   "source": [
    "model.joints.tolist()"
   ]
  },
  {
   "cell_type": "code",
   "execution_count": 80,
   "metadata": {},
   "outputs": [
    {
     "data": {
      "text/plain": [
       "[SE3(array([[1., 0., 0., 0.],[0., 1., 0., 0.],[0., 0., 1., 0.],[0., 0., 0., 1.]])),\n",
       " SE3(array([[1., 0., 0., 0.],[0., 1., 0., 0.],[0., 0., 1., 0.],[0., 0., 0., 1.]])),\n",
       " SE3(array([[1.  , 0.  , 0.  , 0.15],[0.  , 1.  , 0.  , 0.05],[0.  , 0.  , 1.  , 0.2 ],[0.  , 0.  , 0.  , 1.  ]])),\n",
       " SE3(array([[ 1.  ,  0.  ,  0.  , -0.15],[ 0.  ,  1.  ,  0.  , -0.05],[ 0.  ,  0.  ,  1.  ,  0.2 ],[ 0.  ,  0.  ,  0.  ,  1.  ]]))]"
      ]
     },
     "execution_count": 80,
     "metadata": {},
     "output_type": "execute_result"
    }
   ],
   "source": [
    "model.jointPlacements.tolist()"
   ]
  },
  {
   "cell_type": "code",
   "execution_count": 81,
   "metadata": {},
   "outputs": [
    {
     "data": {
      "text/plain": [
       "[  m = 0\n",
       "   c = 0 0 0\n",
       "   I = \n",
       " 0 0 0\n",
       " 0 0 0\n",
       " 0 0 0,\n",
       "   m = 62.4\n",
       "   c = 0 0 0\n",
       "   I = \n",
       "  0.26     0     0\n",
       "     0 0.884     0\n",
       "     0     0  1.04,\n",
       "   m = 5\n",
       "   c = 0 0 0\n",
       "   I = \n",
       " 2.94524e-06           0           0\n",
       "           0 2.94524e-06           0\n",
       "           0           0 1.47262e-06,\n",
       "   m = 5\n",
       "   c = 0 0 0\n",
       "   I = \n",
       " 2.94524e-06           0           0\n",
       "           0 2.94524e-06           0\n",
       "           0           0 1.47262e-06]"
      ]
     },
     "execution_count": 81,
     "metadata": {},
     "output_type": "execute_result"
    }
   ],
   "source": [
    "model.inertias.tolist()"
   ]
  },
  {
   "cell_type": "code",
   "execution_count": 82,
   "metadata": {},
   "outputs": [
    {
     "name": "stdout",
     "output_type": "stream",
     "text": [
      "21 18\n"
     ]
    }
   ],
   "source": [
    "print(model.nq, model.nv)\n"
   ]
  },
  {
   "cell_type": "markdown",
   "metadata": {},
   "source": [
    "# 4. Data"
   ]
  },
  {
   "cell_type": "code",
   "execution_count": 83,
   "metadata": {},
   "outputs": [],
   "source": [
    "q = pin.neutral(model)\n",
    "pin.framesForwardKinematics(model, data, q)"
   ]
  },
  {
   "cell_type": "code",
   "execution_count": 84,
   "metadata": {},
   "outputs": [
    {
     "data": {
      "text/plain": [
       "[JointDataRX, JointDataFreeFlyer, JointDataFreeFlyer, JointDataFreeFlyer]"
      ]
     },
     "execution_count": 84,
     "metadata": {},
     "output_type": "execute_result"
    }
   ],
   "source": [
    "data.joints.tolist()"
   ]
  },
  {
   "cell_type": "code",
   "execution_count": 85,
   "metadata": {},
   "outputs": [
    {
     "data": {
      "text/plain": [
       "[SE3(array([[1., 0., 0., 0.],[0., 1., 0., 0.],[0., 0., 1., 0.],[0., 0., 0., 1.]])),\n",
       " SE3(array([[1., 0., 0., 0.],[0., 1., 0., 0.],[0., 0., 1., 0.],[0., 0., 0., 1.]])),\n",
       " SE3(array([[1.  , 0.  , 0.  , 0.15],[0.  , 1.  , 0.  , 0.05],[0.  , 0.  , 1.  , 0.2 ],[0.  , 0.  , 0.  , 1.  ]])),\n",
       " SE3(array([[ 1.  ,  0.  ,  0.  , -0.15],[ 0.  ,  1.  ,  0.  , -0.05],[ 0.  ,  0.  ,  1.  ,  0.2 ],[ 0.  ,  0.  ,  0.  ,  1.  ]]))]"
      ]
     },
     "execution_count": 85,
     "metadata": {},
     "output_type": "execute_result"
    }
   ],
   "source": [
    "data.oMi.tolist()"
   ]
  },
  {
   "cell_type": "code",
   "execution_count": 86,
   "metadata": {},
   "outputs": [
    {
     "data": {
      "text/plain": [
       "[SE3(array([[1., 0., 0., 0.],[0., 1., 0., 0.],[0., 0., 1., 0.],[0., 0., 0., 1.]])),\n",
       " SE3(array([[1., 0., 0., 0.],[0., 1., 0., 0.],[0., 0., 1., 0.],[0., 0., 0., 1.]])),\n",
       " SE3(array([[1., 0., 0., 0.],[0., 1., 0., 0.],[0., 0., 1., 0.],[0., 0., 0., 1.]])),\n",
       " SE3(array([[1., 0., 0., 0.],[0., 1., 0., 0.],[0., 0., 1., 0.],[0., 0., 0., 1.]])),\n",
       " SE3(array([[1., 0., 0., 0.],[0., 1., 0., 0.],[0., 0., 1., 0.],[0., 0., 0., 1.]])),\n",
       " SE3(array([[1.  , 0.  , 0.  , 0.15],[0.  , 1.  , 0.  , 0.05],[0.  , 0.  , 1.  , 0.2 ],[0.  , 0.  , 0.  , 1.  ]])),\n",
       " SE3(array([[1.  , 0.  , 0.  , 0.15],[0.  , 1.  , 0.  , 0.05],[0.  , 0.  , 1.  , 0.2 ],[0.  , 0.  , 0.  , 1.  ]])),\n",
       " SE3(array([[ 1.  ,  0.  ,  0.  , -0.15],[ 0.  ,  1.  ,  0.  , -0.05],[ 0.  ,  0.  ,  1.  ,  0.2 ],[ 0.  ,  0.  ,  0.  ,  1.  ]])),\n",
       " SE3(array([[ 1.  ,  0.  ,  0.  , -0.15],[ 0.  ,  1.  ,  0.  , -0.05],[ 0.  ,  0.  ,  1.  ,  0.2 ],[ 0.  ,  0.  ,  0.  ,  1.  ]]))]"
      ]
     },
     "execution_count": 86,
     "metadata": {},
     "output_type": "execute_result"
    }
   ],
   "source": [
    "data.oMf.tolist()"
   ]
  },
  {
   "cell_type": "code",
   "execution_count": 87,
   "metadata": {},
   "outputs": [
    {
     "data": {
      "text/plain": [
       "[  v = 0 0 0\n",
       "   w = 0 0 0,\n",
       "   v = 0 0 0\n",
       "   w = 0 0 0,\n",
       "   v = 0 0 0\n",
       "   w = 0 0 0,\n",
       "   v = 0 0 0\n",
       "   w = 0 0 0]"
      ]
     },
     "execution_count": 87,
     "metadata": {},
     "output_type": "execute_result"
    }
   ],
   "source": [
    "data.v.tolist()"
   ]
  },
  {
   "cell_type": "code",
   "execution_count": 88,
   "metadata": {},
   "outputs": [
    {
     "data": {
      "text/plain": [
       "[  v = 0 0 0\n",
       "   w = 0 0 0,\n",
       "   v = 0 0 0\n",
       "   w = 0 0 0,\n",
       "   v = 0 0 0\n",
       "   w = 0 0 0,\n",
       "   v = 0 0 0\n",
       "   w = 0 0 0]"
      ]
     },
     "execution_count": 88,
     "metadata": {},
     "output_type": "execute_result"
    }
   ],
   "source": [
    "data.a.tolist()"
   ]
  },
  {
   "cell_type": "code",
   "execution_count": 89,
   "metadata": {},
   "outputs": [
    {
     "data": {
      "text/plain": [
       "[  f = 0 0 0\n",
       " tau = 0 0 0,\n",
       "   f = 0 0 0\n",
       " tau = 0 0 0,\n",
       "   f = 0 0 0\n",
       " tau = 0 0 0,\n",
       "   f = 0 0 0\n",
       " tau = 0 0 0]"
      ]
     },
     "execution_count": 89,
     "metadata": {},
     "output_type": "execute_result"
    }
   ],
   "source": [
    "data.f.tolist()"
   ]
  },
  {
   "cell_type": "code",
   "execution_count": 90,
   "metadata": {},
   "outputs": [
    {
     "data": {
      "text/plain": [
       "[[0.0,\n",
       "  0.0,\n",
       "  0.0,\n",
       "  0.0,\n",
       "  0.0,\n",
       "  0.0,\n",
       "  0.0,\n",
       "  0.0,\n",
       "  0.0,\n",
       "  0.0,\n",
       "  0.0,\n",
       "  0.0,\n",
       "  0.0,\n",
       "  0.0,\n",
       "  0.0,\n",
       "  0.0,\n",
       "  0.0,\n",
       "  0.0],\n",
       " [0.0,\n",
       "  0.0,\n",
       "  0.0,\n",
       "  0.0,\n",
       "  0.0,\n",
       "  0.0,\n",
       "  0.0,\n",
       "  0.0,\n",
       "  0.0,\n",
       "  0.0,\n",
       "  0.0,\n",
       "  0.0,\n",
       "  0.0,\n",
       "  0.0,\n",
       "  0.0,\n",
       "  0.0,\n",
       "  0.0,\n",
       "  0.0],\n",
       " [0.0,\n",
       "  0.0,\n",
       "  0.0,\n",
       "  0.0,\n",
       "  0.0,\n",
       "  0.0,\n",
       "  0.0,\n",
       "  0.0,\n",
       "  0.0,\n",
       "  0.0,\n",
       "  0.0,\n",
       "  0.0,\n",
       "  0.0,\n",
       "  0.0,\n",
       "  0.0,\n",
       "  0.0,\n",
       "  0.0,\n",
       "  0.0],\n",
       " [0.0,\n",
       "  0.0,\n",
       "  0.0,\n",
       "  0.0,\n",
       "  0.0,\n",
       "  0.0,\n",
       "  0.0,\n",
       "  0.0,\n",
       "  0.0,\n",
       "  0.0,\n",
       "  0.0,\n",
       "  0.0,\n",
       "  0.0,\n",
       "  0.0,\n",
       "  0.0,\n",
       "  0.0,\n",
       "  0.0,\n",
       "  0.0],\n",
       " [0.0,\n",
       "  0.0,\n",
       "  0.0,\n",
       "  0.0,\n",
       "  0.0,\n",
       "  0.0,\n",
       "  0.0,\n",
       "  0.0,\n",
       "  0.0,\n",
       "  0.0,\n",
       "  0.0,\n",
       "  0.0,\n",
       "  0.0,\n",
       "  0.0,\n",
       "  0.0,\n",
       "  0.0,\n",
       "  0.0,\n",
       "  0.0],\n",
       " [0.0,\n",
       "  0.0,\n",
       "  0.0,\n",
       "  0.0,\n",
       "  0.0,\n",
       "  0.0,\n",
       "  0.0,\n",
       "  0.0,\n",
       "  0.0,\n",
       "  0.0,\n",
       "  0.0,\n",
       "  0.0,\n",
       "  0.0,\n",
       "  0.0,\n",
       "  0.0,\n",
       "  0.0,\n",
       "  0.0,\n",
       "  0.0],\n",
       " [0.0,\n",
       "  0.0,\n",
       "  0.0,\n",
       "  0.0,\n",
       "  0.0,\n",
       "  0.0,\n",
       "  0.0,\n",
       "  0.0,\n",
       "  0.0,\n",
       "  0.0,\n",
       "  0.0,\n",
       "  0.0,\n",
       "  0.0,\n",
       "  0.0,\n",
       "  0.0,\n",
       "  0.0,\n",
       "  0.0,\n",
       "  0.0],\n",
       " [0.0,\n",
       "  0.0,\n",
       "  0.0,\n",
       "  0.0,\n",
       "  0.0,\n",
       "  0.0,\n",
       "  0.0,\n",
       "  0.0,\n",
       "  0.0,\n",
       "  0.0,\n",
       "  0.0,\n",
       "  0.0,\n",
       "  0.0,\n",
       "  0.0,\n",
       "  0.0,\n",
       "  0.0,\n",
       "  0.0,\n",
       "  0.0],\n",
       " [0.0,\n",
       "  0.0,\n",
       "  0.0,\n",
       "  0.0,\n",
       "  0.0,\n",
       "  0.0,\n",
       "  0.0,\n",
       "  0.0,\n",
       "  0.0,\n",
       "  0.0,\n",
       "  0.0,\n",
       "  0.0,\n",
       "  0.0,\n",
       "  0.0,\n",
       "  0.0,\n",
       "  0.0,\n",
       "  0.0,\n",
       "  0.0],\n",
       " [0.0,\n",
       "  0.0,\n",
       "  0.0,\n",
       "  0.0,\n",
       "  0.0,\n",
       "  0.0,\n",
       "  0.0,\n",
       "  0.0,\n",
       "  0.0,\n",
       "  0.0,\n",
       "  0.0,\n",
       "  0.0,\n",
       "  0.0,\n",
       "  0.0,\n",
       "  0.0,\n",
       "  0.0,\n",
       "  0.0,\n",
       "  0.0],\n",
       " [0.0,\n",
       "  0.0,\n",
       "  0.0,\n",
       "  0.0,\n",
       "  0.0,\n",
       "  0.0,\n",
       "  0.0,\n",
       "  0.0,\n",
       "  0.0,\n",
       "  0.0,\n",
       "  0.0,\n",
       "  0.0,\n",
       "  0.0,\n",
       "  0.0,\n",
       "  0.0,\n",
       "  0.0,\n",
       "  0.0,\n",
       "  0.0],\n",
       " [0.0,\n",
       "  0.0,\n",
       "  0.0,\n",
       "  0.0,\n",
       "  0.0,\n",
       "  0.0,\n",
       "  0.0,\n",
       "  0.0,\n",
       "  0.0,\n",
       "  0.0,\n",
       "  0.0,\n",
       "  0.0,\n",
       "  0.0,\n",
       "  0.0,\n",
       "  0.0,\n",
       "  0.0,\n",
       "  0.0,\n",
       "  0.0],\n",
       " [0.0,\n",
       "  0.0,\n",
       "  0.0,\n",
       "  0.0,\n",
       "  0.0,\n",
       "  0.0,\n",
       "  0.0,\n",
       "  0.0,\n",
       "  0.0,\n",
       "  0.0,\n",
       "  0.0,\n",
       "  0.0,\n",
       "  0.0,\n",
       "  0.0,\n",
       "  0.0,\n",
       "  0.0,\n",
       "  0.0,\n",
       "  0.0],\n",
       " [0.0,\n",
       "  0.0,\n",
       "  0.0,\n",
       "  0.0,\n",
       "  0.0,\n",
       "  0.0,\n",
       "  0.0,\n",
       "  0.0,\n",
       "  0.0,\n",
       "  0.0,\n",
       "  0.0,\n",
       "  0.0,\n",
       "  0.0,\n",
       "  0.0,\n",
       "  0.0,\n",
       "  0.0,\n",
       "  0.0,\n",
       "  0.0],\n",
       " [0.0,\n",
       "  0.0,\n",
       "  0.0,\n",
       "  0.0,\n",
       "  0.0,\n",
       "  0.0,\n",
       "  0.0,\n",
       "  0.0,\n",
       "  0.0,\n",
       "  0.0,\n",
       "  0.0,\n",
       "  0.0,\n",
       "  0.0,\n",
       "  0.0,\n",
       "  0.0,\n",
       "  0.0,\n",
       "  0.0,\n",
       "  0.0],\n",
       " [0.0,\n",
       "  0.0,\n",
       "  0.0,\n",
       "  0.0,\n",
       "  0.0,\n",
       "  0.0,\n",
       "  0.0,\n",
       "  0.0,\n",
       "  0.0,\n",
       "  0.0,\n",
       "  0.0,\n",
       "  0.0,\n",
       "  0.0,\n",
       "  0.0,\n",
       "  0.0,\n",
       "  0.0,\n",
       "  0.0,\n",
       "  0.0],\n",
       " [0.0,\n",
       "  0.0,\n",
       "  0.0,\n",
       "  0.0,\n",
       "  0.0,\n",
       "  0.0,\n",
       "  0.0,\n",
       "  0.0,\n",
       "  0.0,\n",
       "  0.0,\n",
       "  0.0,\n",
       "  0.0,\n",
       "  0.0,\n",
       "  0.0,\n",
       "  0.0,\n",
       "  0.0,\n",
       "  0.0,\n",
       "  0.0],\n",
       " [0.0,\n",
       "  0.0,\n",
       "  0.0,\n",
       "  0.0,\n",
       "  0.0,\n",
       "  0.0,\n",
       "  0.0,\n",
       "  0.0,\n",
       "  0.0,\n",
       "  0.0,\n",
       "  0.0,\n",
       "  0.0,\n",
       "  0.0,\n",
       "  0.0,\n",
       "  0.0,\n",
       "  0.0,\n",
       "  0.0,\n",
       "  0.0]]"
      ]
     },
     "execution_count": 90,
     "metadata": {},
     "output_type": "execute_result"
    }
   ],
   "source": [
    "data.M.tolist()"
   ]
  },
  {
   "cell_type": "code",
   "execution_count": 91,
   "metadata": {},
   "outputs": [
    {
     "data": {
      "text/plain": [
       "[0.0,\n",
       " 0.0,\n",
       " 0.0,\n",
       " 0.0,\n",
       " 0.0,\n",
       " 0.0,\n",
       " 0.0,\n",
       " 0.0,\n",
       " 0.0,\n",
       " 0.0,\n",
       " 0.0,\n",
       " 0.0,\n",
       " 0.0,\n",
       " 0.0,\n",
       " 0.0,\n",
       " 0.0,\n",
       " 0.0,\n",
       " 0.0]"
      ]
     },
     "execution_count": 91,
     "metadata": {},
     "output_type": "execute_result"
    }
   ],
   "source": [
    "data.nle.tolist()"
   ]
  },
  {
   "cell_type": "code",
   "execution_count": 92,
   "metadata": {},
   "outputs": [
    {
     "data": {
      "text/plain": [
       "  f = 0 0 0\n",
       "tau = 0 0 0"
      ]
     },
     "execution_count": 92,
     "metadata": {},
     "output_type": "execute_result"
    }
   ],
   "source": [
    "data.hg"
   ]
  },
  {
   "cell_type": "code",
   "execution_count": 93,
   "metadata": {},
   "outputs": [
    {
     "data": {
      "text/plain": [
       "array([[0., 0., 0., 0., 0., 0., 0., 0., 0., 0., 0., 0., 0., 0., 0., 0.,\n",
       "        0., 0.],\n",
       "       [0., 0., 0., 0., 0., 0., 0., 0., 0., 0., 0., 0., 0., 0., 0., 0.,\n",
       "        0., 0.],\n",
       "       [0., 0., 0., 0., 0., 0., 0., 0., 0., 0., 0., 0., 0., 0., 0., 0.,\n",
       "        0., 0.],\n",
       "       [0., 0., 0., 0., 0., 0., 0., 0., 0., 0., 0., 0., 0., 0., 0., 0.,\n",
       "        0., 0.],\n",
       "       [0., 0., 0., 0., 0., 0., 0., 0., 0., 0., 0., 0., 0., 0., 0., 0.,\n",
       "        0., 0.],\n",
       "       [0., 0., 0., 0., 0., 0., 0., 0., 0., 0., 0., 0., 0., 0., 0., 0.,\n",
       "        0., 0.]])"
      ]
     },
     "execution_count": 93,
     "metadata": {},
     "output_type": "execute_result"
    }
   ],
   "source": [
    "data.Ag"
   ]
  },
  {
   "cell_type": "code",
   "execution_count": null,
   "metadata": {},
   "outputs": [],
   "source": [
    "data.Ig"
   ]
  },
  {
   "cell_type": "code",
   "execution_count": 97,
   "metadata": {},
   "outputs": [
    {
     "name": "stdout",
     "output_type": "stream",
     "text": [
      "  R =\n",
      " 0.877583  0.403423  0.259035\n",
      "        0  0.540302 -0.841471\n",
      "-0.479426   0.73846   0.47416\n",
      "  p = 0.15 0.05  0.2\n",
      "\n"
     ]
    }
   ],
   "source": [
    "LINK_NAME = \"body_two\"\n",
    "LINK_ID = model.getBodyId(LINK_NAME)\n",
    "q = pin.neutral(model)\n",
    "pin.framesForwardKinematics(model, data, q)\n",
    "iMd = data.oMf[LINK_ID]\n",
    "print(iMd)"
   ]
  },
  {
   "cell_type": "code",
   "execution_count": 101,
   "metadata": {},
   "outputs": [
    {
     "name": "stdout",
     "output_type": "stream",
     "text": [
      "  R =\n",
      " 0.303381  0.761709 -0.572502\n",
      "-0.297904 -0.494881   -0.8163\n",
      "-0.905104  0.418201 0.0767792\n",
      "  p =  -0.809292 -0.0288221   0.153758\n",
      "\n"
     ]
    }
   ],
   "source": [
    "M = pin.SE3.Random()\n",
    "print(M)\n"
   ]
  },
  {
   "cell_type": "code",
   "execution_count": 102,
   "metadata": {},
   "outputs": [
    {
     "data": {
      "text/plain": [
       "array([[ 0.30338094,  0.76170949, -0.5725021 ],\n",
       "       [-0.29790432, -0.49488051, -0.81630037],\n",
       "       [-0.90510387,  0.41820082,  0.07677923]])"
      ]
     },
     "execution_count": 102,
     "metadata": {},
     "output_type": "execute_result"
    }
   ],
   "source": [
    "M.rotation"
   ]
  },
  {
   "cell_type": "code",
   "execution_count": 103,
   "metadata": {},
   "outputs": [
    {
     "data": {
      "text/plain": [
       "array([-0.80929203, -0.02882209,  0.15375837])"
      ]
     },
     "execution_count": 103,
     "metadata": {},
     "output_type": "execute_result"
    }
   ],
   "source": [
    "M.translation"
   ]
  },
  {
   "cell_type": "code",
   "execution_count": 105,
   "metadata": {},
   "outputs": [
    {
     "name": "stdout",
     "output_type": "stream",
     "text": [
      "  R =\n",
      " 0.303381  0.761709 -0.572502\n",
      "-0.297904 -0.494881   -0.8163\n",
      "-0.905104  0.418201 0.0767792\n",
      "  p =  -0.809292 -0.0288221   0.153758\n",
      "\n"
     ]
    }
   ],
   "source": [
    "print(pin.SE3(M.rotation, M.translation))"
   ]
  },
  {
   "cell_type": "code",
   "execution_count": 107,
   "metadata": {},
   "outputs": [
    {
     "name": "stdout",
     "output_type": "stream",
     "text": [
      "  R =\n",
      " 0.303381 -0.297904 -0.905104\n",
      " 0.761709 -0.494881  0.418201\n",
      "-0.572502   -0.8163 0.0767792\n",
      "  p =  0.376105   0.53788 -0.498654\n",
      "\n"
     ]
    }
   ],
   "source": [
    "print(M.inverse())"
   ]
  },
  {
   "cell_type": "code",
   "execution_count": 110,
   "metadata": {},
   "outputs": [
    {
     "name": "stdout",
     "output_type": "stream",
     "text": [
      "  R =\n",
      "           1  5.55112e-17  3.46945e-17\n",
      " 5.55112e-17            1 -5.55112e-17\n",
      " 5.55112e-17 -5.55112e-17            1\n",
      "  p = 1.11022e-16           0 8.32667e-17\n",
      "\n"
     ]
    }
   ],
   "source": [
    "print(M * M.inverse())"
   ]
  },
  {
   "cell_type": "code",
   "execution_count": 115,
   "metadata": {},
   "outputs": [
    {
     "name": "stdout",
     "output_type": "stream",
     "text": [
      "[[ 0.30338094  0.76170949 -0.5725021   0.07189227  0.0640386   0.12330008]\n",
      " [-0.29790432 -0.49488051 -0.81630037 -0.68584599  0.4555658  -0.02589017]\n",
      " [-0.90510387  0.41820082  0.07677923  0.24983566  0.42245691  0.64412467]\n",
      " [ 0.          0.          0.          0.30338094  0.76170949 -0.5725021 ]\n",
      " [ 0.          0.          0.         -0.29790432 -0.49488051 -0.81630037]\n",
      " [ 0.          0.          0.         -0.90510387  0.41820082  0.07677923]]\n"
     ]
    }
   ],
   "source": [
    "print(M.action)"
   ]
  },
  {
   "cell_type": "code",
   "execution_count": 116,
   "metadata": {},
   "outputs": [
    {
     "name": "stdout",
     "output_type": "stream",
     "text": [
      "[[ 0.30338094  0.76170949 -0.5725021  -0.80929203]\n",
      " [-0.29790432 -0.49488051 -0.81630037 -0.02882209]\n",
      " [-0.90510387  0.41820082  0.07677923  0.15375837]\n",
      " [ 0.          0.          0.          1.        ]]\n"
     ]
    }
   ],
   "source": [
    "print(M.homogeneous)"
   ]
  }
 ],
 "metadata": {
  "kernelspec": {
   "display_name": "simrobs",
   "language": "python",
   "name": "python3"
  },
  "language_info": {
   "codemirror_mode": {
    "name": "ipython",
    "version": 3
   },
   "file_extension": ".py",
   "mimetype": "text/x-python",
   "name": "python",
   "nbconvert_exporter": "python",
   "pygments_lexer": "ipython3",
   "version": "3.10.12"
  }
 },
 "nbformat": 4,
 "nbformat_minor": 2
}
