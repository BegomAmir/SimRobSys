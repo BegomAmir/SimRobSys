{
 "cells": [
  {
   "cell_type": "markdown",
   "metadata": {},
   "source": [
    "# Practice 2\n",
    "\n"
   ]
  },
  {
   "cell_type": "markdown",
   "metadata": {},
   "source": [
    "As always we start with uploading needed libraries"
   ]
  },
  {
   "cell_type": "code",
   "execution_count": 1,
   "metadata": {},
   "outputs": [],
   "source": [
    "from os import path\n",
    "import mujoco\n",
    "import mujoco_viewer\n",
    "import numpy as np"
   ]
  },
  {
   "cell_type": "markdown",
   "metadata": {},
   "source": [
    "Constant variables such as simulation time, step numbers, model name, and MuJoCo entities: model and data"
   ]
  },
  {
   "cell_type": "code",
   "execution_count": 2,
   "metadata": {},
   "outputs": [],
   "source": [
    "SIMEND = 10\n",
    "STEP_NUM = 1000\n",
    "MODEL_NAME = 'open_chain_robot.xml'\n",
    "\n",
    "ROOT = path.abspath('')\n",
    "FOLDER_PATH = path.join(ROOT, '')\n",
    "MODEL_PATH = path.join(FOLDER_PATH, MODEL_NAME)\n",
    "\n",
    "model = mujoco.MjModel.from_xml_path(MODEL_PATH)\n",
    "data = mujoco.MjData(model)"
   ]
  },
  {
   "cell_type": "markdown",
   "metadata": {},
   "source": [
    "Let us make servo control. \n",
    "\n",
    "Take a look at container `actuator` at xml of the model. The the first actuator (id is 0) is a motor, which means it is torque controlled. "
   ]
  },
  {
   "cell_type": "code",
   "execution_count": 3,
   "metadata": {},
   "outputs": [],
   "source": [
    "def set_position_servo(mjmodel, actuator_no, kp):\n",
    "    mjmodel.actuator_gainprm[actuator_no, 0] = kp\n",
    "    mjmodel.actuator_biasprm[actuator_no, 1] = -kp\n",
    "\n",
    "\n",
    "def set_velocity_servo(mjmodel, actuator_no, kv):\n",
    "    mjmodel.actuator_gainprm[actuator_no, 0] = kv\n",
    "    mjmodel.actuator_biasprm[actuator_no, 2] = -kv\n",
    "\n",
    "\n",
    "def controller(mjmodel, mjdata):\n",
    "\n",
    "    # position control; position/velocity servo\n",
    "    set_position_servo(mjmodel, 1, 100)\n",
    "    set_velocity_servo(mjmodel, 2, 10)\n",
    "    mjdata.ctrl[1] = np.pi/4  # position\n",
    "\n",
    "    set_position_servo(mjmodel, 4, 100)\n",
    "    set_velocity_servo(mjmodel, 5, 10)\n",
    "    mjdata.ctrl[4] = np.pi/2  # position"
   ]
  },
  {
   "cell_type": "markdown",
   "metadata": {},
   "source": [
    "Viewer and simulation"
   ]
  },
  {
   "cell_type": "code",
   "execution_count": 4,
   "metadata": {},
   "outputs": [],
   "source": [
    "viewer = mujoco_viewer.MujocoViewer(model, data,\n",
    "                                    title=\"2R_robot\",\n",
    "                                    width=1920,\n",
    "                                    height=1080)\n",
    "\n",
    "mujoco.set_mjcb_control(controller)\n",
    "\n",
    "for i in range(STEP_NUM):\n",
    "    if viewer.is_alive:\n",
    "        time_prev = data.time\n",
    "        while (data.time - time_prev < 1.0/60.0):\n",
    "            mujoco.mj_step(model, data)\n",
    "\n",
    "        if (data.time >= SIMEND):\n",
    "            break\n",
    "        viewer.render()\n",
    "    else:\n",
    "        break\n",
    "\n",
    "viewer.close()   "
   ]
  },
  {
   "cell_type": "markdown",
   "metadata": {},
   "source": [
    "Let us change controller "
   ]
  },
  {
   "cell_type": "code",
   "execution_count": 5,
   "metadata": {},
   "outputs": [],
   "source": [
    "def set_torque_servo(actuator_no, flag):\n",
    "    if (flag == 0):\n",
    "        model.actuator_gainprm[actuator_no, 0] = 0\n",
    "    else:\n",
    "        model.actuator_gainprm[actuator_no, 0] = 1\n",
    "\n",
    "\n",
    "def controller(model, data):\n",
    "\n",
    "    # torque control\n",
    "    set_torque_servo(0, 1)\n",
    "    data.ctrl[0] = 100*(np.pi/2-data.qpos[0]) + 10*(0.5-data.qvel[0])\n",
    "    data.ctrl[3] = 100*(np.pi/2-data.qpos[1]) + 10*(0.5-data.qvel[1])"
   ]
  },
  {
   "cell_type": "markdown",
   "metadata": {},
   "source": [
    "Sim"
   ]
  },
  {
   "cell_type": "code",
   "execution_count": 6,
   "metadata": {},
   "outputs": [],
   "source": [
    "viewer = mujoco_viewer.MujocoViewer(model, data,\n",
    "                                    title=\"2R_robot\",\n",
    "                                    width=1920,\n",
    "                                    height=1080)\n",
    "\n",
    "mujoco.set_mjcb_control(controller)\n",
    "\n",
    "for i in range(STEP_NUM):\n",
    "    if viewer.is_alive:\n",
    "        time_prev = data.time\n",
    "        while (data.time - time_prev < 1.0/60.0):\n",
    "            mujoco.mj_step(model, data)\n",
    "\n",
    "        if (data.time >= SIMEND):\n",
    "            break\n",
    "        # mujoco.mj_step(model, data)\n",
    "        viewer.render()\n",
    "    else:\n",
    "        break\n",
    "\n",
    "viewer.close()    "
   ]
  }
 ],
 "metadata": {
  "kernelspec": {
   "display_name": "simrobs",
   "language": "python",
   "name": "python3"
  },
  "language_info": {
   "codemirror_mode": {
    "name": "ipython",
    "version": 3
   },
   "file_extension": ".py",
   "mimetype": "text/x-python",
   "name": "python",
   "nbconvert_exporter": "python",
   "pygments_lexer": "ipython3",
   "version": "3.10.12"
  }
 },
 "nbformat": 4,
 "nbformat_minor": 2
}
