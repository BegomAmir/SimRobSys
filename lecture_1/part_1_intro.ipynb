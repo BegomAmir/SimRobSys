{
 "cells": [
  {
   "cell_type": "markdown",
   "metadata": {},
   "source": [
    "# Introduction\n",
    "\n",
    "## What is a robot?\n",
    "\n",
    "Robots are programmable machines that implement the desired action. Like any machine, a robot is needed to perform an automatic mechanical motion instead of a human, in other words, to make humans' lives easier. A robot uses external energy to apply forces and torques to transform the motion of actuated input links to get the desired output links' motion. There is a vast range of robotics systems for different applications. The hardware and software of the robots' significantly differ depending on their purposes.\n",
    "\n",
    "Traditionally, robots have been treated as devices for industrial applications, where robots perform repetitive tasks with high precision. For example, we can imagine a robot that follows a predefined trajectory in a completely structured environment to perform welding tasks at a car factory. In such tasks, robots are isolated from humans, and there is no physical robot-human interaction.  \n",
    "\n",
    "This book sticks to the new kind of robots that can work together with humans and cooperate with them: collaborative articulated robot manipulators and wearable assistive robots. The requirements for such robots are completely different from industrial robots. In the dynamically changing unstructured environment, the most important requirement is the ability to perform physical Human-Robot-Environment (pHRE) interaction. In particular, safety for both humans and robots are one of the essential requirements. Such robots need to be adaptable so that they can safely interact with environments with varying properties and characteristics."
   ]
  },
  {
   "cell_type": "markdown",
   "metadata": {},
   "source": [
    "## What means modeling and why do we need it?\n",
    "\n",
    "Our task as roboticists is to contrive new robots for a given purpose, for instance collaborative or wearable, or any other kind of robot. Robotics is an interdisciplinary branch of engineering and computer science. When there is a task to create a new robot for specific purposes, we need to create a robot's hardware, i.e., mechanics, drives, electronics, sensors, and software, i.e., low-level control algorithms, motion planning, cognition etc. All aspects of robots must be done with respect to each other, since all of them shape the robot's behavior to perform the desired task.\n",
    "\n",
    "Although there are guidelines for conducting design, the overall process is by its very nature as much as art as science. The result of the design process rely on the developer's creativity, imagination, engineering intuition, judgment, and experience. A numerical evaluation of robots' design and behavior is needed to get accurate and reliable data rather than just intuition.\n",
    "\n",
    "Modeling is an act of creation of a model, which is a simplified representation of a system of interest, while approximating most of the essential features of the real system as close as possible. In robotics, modeling is a process of developing a mathematical representation of an already existing or proposed system, module, or submodule. A model describes an essential behavior and characteristics for a specific scenario. A good model is a judicious tradeoff between realism and simplicity that can be either physical or digital, for example a resistor has its mass and dimensions as any physical object, but Ohm's law does not take them into account since they are not crucial while designing an electric circuit. \n",
    "\n",
    "In robotics, modeling is needed for (a) simulation and (b) control. Simulation is the act of using a model to study the behavior and performance of an actual or theoretical system. Simulation allows studying system performance, conducting design choices, and deciding among alternatives by manipulating variables that cannot be controlled in a real system. Simulation allows evaluating a model's performance and optimizing it or to make predictions about a real system. \n",
    "\n",
    "Besides simulation, we need modeling to synthesize control algorithms. Roughly, we can classify the whole variety of control strategies into two subcategories: model-free and model-based control. The model-free control strategies are based on an optimization procedure to tune controller's parameters directly at the control object. These methods are universal, since they do not impose additional requirements on the mathematical description of the control object.\n",
    "\n",
    "Model-based methods depend on an \"accurate\" representation of the control system, typically expressed through differential equations or a transfer function. These methods require idealization of the control object in order to attribute it to some general class for which standard control synthesis algorithms are known. \n",
    "\n",
    "The typical understanding of the control is the following: you measure robots' current state, use a computer to calculate the control signal, and steer the robot. Nevertheless, actually control is also building a machine with a spring placed in the right place. Control is changing the dynamics of a given system. Thus, hardware design and control must be created simultaneously."
   ]
  },
  {
   "cell_type": "markdown",
   "metadata": {},
   "source": [
    "## What is this all about?\n",
    "\n",
    "Modeling, control, and design depend on each other, and distinct and unifying perspective are lost if they are studied independently. Although the real goal of roboticists is to find an optimal robot's design and to synthesis proper control, most of our effort may be spent on <i>modeling</i>. The modeling itself is not a goal, but a vital tool to study a system's behavior, i.e., do <i>simulation</i> and to steer the system in desired manner, i.e., do <i>control</i>.\n",
    "\n",
    "This chapter unites multiples theories and ideas to form a unified sort of pipeline to do modeling to synthesis control and to create a simulation model to study robot's behavior and predict its performance. \n",
    "\n",
    "The chapter starts with essential concepts of modeling of a basic dynamical system. Section 2 discusses how to create a mathematical model using differential equations for simulation purposes. Section 3 goes deeper in details and considers how we can model a planar robot to come up with control to perform dynamical physical interaction with the environment. However, the considered examples so far take care of planar cases. Section 4 presents an overview of modeling methods for spatial motion of rigid bodies. Section 5 reflects on the modeling and control of collaborative and wearable robots.\n",
    "\n",
    "The chapter is based on a wide range of excellent textbooks. The chapter mainly is based on books of Stefano Stramigioli [1]. The way to introduce the fundamental topics about robot mechanics and control is inspired by the textbook of Kevin M. Lynch and Frank C. Park [2], which is one of the best textbooks for undergraduates with only freshman-level physics, ordinary differential equations, and linear algebra. The chapter is concise compared to textbooks. For deeper understanding the excellent but more advanced graduate textbooks such as [3] can be used. \n",
    "\n",
    "1. Stramigioli, S., & Bruyninckx, H. (2001). Geometry and screw theory for robotics. Tutorial during ICRA, 2001, 75.\n",
    "2. Kevin M Lynch and Frank C Park. Modern Robotics. Cambridge University Press, 2017.\n",
    "3. Richard M Murray et al. A mathematical introduction to robotic manipulation. CRC press, 1994."
   ]
  }
 ],
 "metadata": {
  "language_info": {
   "name": "python"
  }
 },
 "nbformat": 4,
 "nbformat_minor": 2
}
