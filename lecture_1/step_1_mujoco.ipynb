{
 "cells": [
  {
   "cell_type": "markdown",
   "metadata": {},
   "source": [
    "# MuFoCo first model\n",
    "\n",
    "**[MuJoCo](https://mujoco.readthedocs.io/en/stable/overview.html)** stands for Multi-Joint dynamics with Contact. It is a general purpose physics engine that aims to facilitate research and development in many domains, but we have primary interest in robotics. Within this tutorial we are going to create our first simple simulation model."
   ]
  },
  {
   "cell_type": "markdown",
   "metadata": {},
   "source": [
    "# Code explanation\n",
    "Let us start with loading needed libraries. Within this simple example we are going to use `mujoco` and a custom viewer `mujoco_viewer`."
   ]
  },
  {
   "cell_type": "code",
   "execution_count": 1,
   "metadata": {},
   "outputs": [],
   "source": [
    "import mujoco\n",
    "import mujoco_viewer"
   ]
  },
  {
   "cell_type": "markdown",
   "metadata": {},
   "source": [
    "You can define models in the native MJCF scene description language – an XML file format designed to be as human readable and editable as possible. URDF model files can also be loaded. Within this example we are going to use **[MJCF](https://mujoco.readthedocs.io/en/stable/XMLreference.html)**. \n",
    "\n",
    "The following model contains one fixed body composed out of a few geoms and one floating body. "
   ]
  },
  {
   "cell_type": "code",
   "execution_count": null,
   "metadata": {},
   "outputs": [],
   "source": [
    "MJCF_MODEL = \"\"\" \n",
    "<mujoco>\n",
    "  <option gravity =\"0 0 -9.8\" timestep=\"0.00005\"/>\n",
    "\n",
    "  <worldbody>\n",
    "    <light diffuse=\".5 .5 .5\" pos=\"0 0 3\" dir=\"0 0 -1\"/>\n",
    "    <geom name=\"red_box\" type=\"box\" size=\".2 .2 .2\" rgba=\"1 0 0 1\"/>\n",
    "    <geom name=\"green_sphere\" pos=\".2 .2 .2\" size=\".1\" rgba=\"0 1 0 1\"/>\n",
    "    <geom type=\"plane\" size=\"1 1 0.1\" rgba=\".9 0 0 1\"/>\n",
    "\n",
    "    <body name=\"float_body\" pos=\"0 0 2\">\n",
    "      <joint type=\"free\"/>\n",
    "      <geom  type=\"box\" size=\".1 .2 .3\" rgba=\"0 .9 0 1\" mass = \"1\"/>\n",
    "    </body>\n",
    "\n",
    "  </worldbody>\n",
    "</mujoco>\n",
    "\"\"\""
   ]
  },
  {
   "cell_type": "markdown",
   "metadata": {},
   "source": [
    "MuJoCo separates simulation parameters into two data structures at runtime: (1) mjModel contains the model description and is expected to remain constant, and (2) mjData contains all dynamic variables and intermediate results."
   ]
  },
  {
   "cell_type": "code",
   "execution_count": null,
   "metadata": {},
   "outputs": [],
   "source": [
    "model = mujoco.MjModel.from_xml_string(MJCF_MODEL)\n",
    "data = mujoco.MjData(model)"
   ]
  },
  {
   "cell_type": "markdown",
   "metadata": {},
   "source": [
    "Here we use a custom mujoco-python-viewer. \n",
    "\n",
    "`mj_step` will simulate the passive dynamics, because we have not provided any control signals or applied forces. \n",
    "\n",
    "Press `D` to turn off rendering of all frames to force viewer to render in real time. "
   ]
  },
  {
   "cell_type": "code",
   "execution_count": null,
   "metadata": {},
   "outputs": [],
   "source": [
    "viewer = mujoco_viewer.MujocoViewer(model, data)\n",
    "\n",
    "while viewer.is_alive:\n",
    "    mujoco.mj_step(model, data)\n",
    "\n",
    "    viewer.render()\n",
    "\n",
    "viewer.close()    "
   ]
  },
  {
   "cell_type": "markdown",
   "metadata": {},
   "source": [
    "You can create `mujoco.MjModel` not from string only, but from a file as well. \n",
    "\n",
    "Also, I have added a limit for number of simulation steps."
   ]
  },
  {
   "cell_type": "code",
   "execution_count": null,
   "metadata": {},
   "outputs": [],
   "source": [
    "from os import path\n",
    "\n",
    "MODEL_NAME = 'ex_7.xml'\n",
    "ROOT = path.abspath('')\n",
    "FOLDER_PATH = path.join(ROOT, 'models')\n",
    "MODEL_PATH = path.join(FOLDER_PATH, MODEL_NAME)\n",
    "\n",
    "model = mujoco.MjModel.from_xml_path(MODEL_PATH)\n",
    "data = mujoco.MjData(model)\n",
    "\n",
    "viewer = mujoco_viewer.MujocoViewer(model, data)\n",
    "\n",
    "STEP_NUM = 1000\n",
    "\n",
    "for i in range(STEP_NUM):\n",
    "    if viewer.is_alive:\n",
    "        mujoco.mj_step(model, data)\n",
    "        viewer.render()\n",
    "        print(i)\n",
    "    else:\n",
    "        break\n",
    "\n",
    "viewer.close()    "
   ]
  },
  {
   "cell_type": "markdown",
   "metadata": {},
   "source": [
    "Now let us try the default viewer. Additionally, we have added extra `flags`."
   ]
  },
  {
   "cell_type": "code",
   "execution_count": null,
   "metadata": {},
   "outputs": [],
   "source": [
    "import time\n",
    "from mujoco import viewer\n",
    "from os import path\n",
    "\n",
    "MODEL_NAME = 'ex_7.xml'\n",
    "ROOT = path.abspath('')\n",
    "FOLDER_PATH = path.join(ROOT, 'models')\n",
    "MODEL_PATH = path.join(FOLDER_PATH, MODEL_NAME)\n",
    "\n",
    "model = mujoco.MjModel.from_xml_path(MODEL_PATH)\n",
    "data = mujoco.MjData(model)\n",
    "\n",
    "SIMULATION_TIME = 100\n",
    "\n",
    "with mujoco.viewer.launch_passive(model, data) as viewer:\n",
    "    start = time.time()\n",
    "\n",
    "    while viewer.is_running() and time.time() - start < SIMULATION_TIME:\n",
    "        mujoco.mj_step(model, data)\n",
    "        viewer.opt.flags[mujoco.mjtVisFlag.mjVIS_CONTACTPOINT] = True\n",
    "        viewer.opt.flags[mujoco.mjtVisFlag.mjVIS_JOINT] = True\n",
    "        viewer.sync()\n",
    "\n",
    "viewer.close()"
   ]
  },
  {
   "cell_type": "markdown",
   "metadata": {},
   "source": [
    "As a homework try to modify or change the entire MJCF model. Use **[Overview](https://mujoco.readthedocs.io/en/stable/overview.html#)** and **[XML Reference](https://mujoco.readthedocs.io/en/stable/XMLreference.html)** for your help. Have fun!"
   ]
  }
 ],
 "metadata": {
  "kernelspec": {
   "display_name": "simrobs",
   "language": "python",
   "name": "python3"
  },
  "language_info": {
   "codemirror_mode": {
    "name": "ipython",
    "version": 3
   },
   "file_extension": ".py",
   "mimetype": "text/x-python",
   "name": "python",
   "nbconvert_exporter": "python",
   "pygments_lexer": "ipython3",
   "version": "3.10.12"
  }
 },
 "nbformat": 4,
 "nbformat_minor": 2
}
