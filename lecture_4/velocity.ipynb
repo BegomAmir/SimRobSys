{
 "cells": [
  {
   "cell_type": "code",
   "execution_count": 1,
   "metadata": {},
   "outputs": [],
   "source": [
    "from os import path\n",
    "import pinocchio as pin\n",
    "import numpy as np\n",
    "from pinocchio.visualize import MeshcatVisualizer\n",
    "import meshcat"
   ]
  },
  {
   "cell_type": "markdown",
   "metadata": {},
   "source": []
  },
  {
   "cell_type": "code",
   "execution_count": 2,
   "metadata": {},
   "outputs": [],
   "source": [
    "MODEL_NAME = \"two_bodies.urdf\"\n",
    "ROOT = path.abspath('')\n",
    "FOLDER_PATH = path.join(ROOT, '')\n",
    "MODEL_PATH = path.join(FOLDER_PATH, MODEL_NAME)\n",
    "\n",
    "model, collision_model, visual_model = pin.buildModelsFromUrdf(MODEL_PATH, None, pin.JointModelFreeFlyer())\n",
    "data = model.createData()"
   ]
  },
  {
   "cell_type": "code",
   "execution_count": 3,
   "metadata": {},
   "outputs": [
    {
     "name": "stdout",
     "output_type": "stream",
     "text": [
      "You can open the visualizer by visiting the following URL:\n",
      "http://127.0.0.1:7000/static/\n"
     ]
    }
   ],
   "source": [
    "viz = MeshcatVisualizer(model, collision_model, visual_model)\n",
    "viz.viewer = meshcat.Visualizer(zmq_url=\"tcp://127.0.0.1:6000\")\n",
    "viz.clean()\n",
    "# meshcat-server --open\n",
    "\n",
    "# Load the robot in the viewer.\n",
    "viz.loadViewerModel()\n",
    "\n",
    "# Display a robot configuration.\n",
    "q0 = pin.neutral(model)\n",
    "viz.display(q0)\n",
    "viz.displayVisuals(True)"
   ]
  },
  {
   "cell_type": "code",
   "execution_count": 4,
   "metadata": {},
   "outputs": [
    {
     "data": {
      "text/html": [
       "\n",
       "            <div style=\"height: 400px; width: 100%; overflow-x: auto; overflow-y: hidden; resize: both\">\n",
       "            <iframe src=\"http://127.0.0.1:7000/static/\" style=\"width: 100%; height: 100%; border: none\"></iframe>\n",
       "            </div>\n",
       "            "
      ],
      "text/plain": [
       "<IPython.core.display.HTML object>"
      ]
     },
     "execution_count": 4,
     "metadata": {},
     "output_type": "execute_result"
    }
   ],
   "source": [
    "hasattr(viz.viewer, 'jupyter_cell') and viz.viewer.jupyter_cell()"
   ]
  },
  {
   "cell_type": "code",
   "execution_count": 5,
   "metadata": {},
   "outputs": [
    {
     "data": {
      "text/plain": [
       "[  v = 0 0 0\n",
       "   w = 0 0 0,\n",
       "   v = 0 0 0\n",
       "   w = 0 0 0,\n",
       "   v = 0 0 0\n",
       "   w = 0 0 0,\n",
       "   v = 0 0 0\n",
       "   w = 0 0 0]"
      ]
     },
     "execution_count": 5,
     "metadata": {},
     "output_type": "execute_result"
    }
   ],
   "source": [
    "q = np.array([1., 0., 0., 0., 0., 0., 1.,\n",
    "              0., 0., 0., 0., 0., 0., 1.,\n",
    "              0., 0., 0., 0., 0., 0., 1.])\n",
    "v = np.random.rand(model.nv)\n",
    "tau = np.random.rand(model.nv)\n",
    "pin.forwardKinematics(model, data, q)\n",
    "viz.display(q)\n",
    "data.v.tolist()"
   ]
  },
  {
   "cell_type": "markdown",
   "metadata": {},
   "source": [
    "Pam pam"
   ]
  },
  {
   "cell_type": "code",
   "execution_count": 6,
   "metadata": {},
   "outputs": [
    {
     "data": {
      "text/plain": [
       "[  v = 0 0 0\n",
       "   w = 0 0 0,\n",
       "   v = 0.0996601  0.915437  0.279638\n",
       "   w = 0.788033 0.167424  0.44543,\n",
       "   v =  0.535053  0.882052 -0.133605\n",
       "   w = 0.507274 0.980035  1.17717,\n",
       "   v = 1.13434 1.02522  0.9138\n",
       "   w =  1.72061 0.202716  1.18234]"
      ]
     },
     "execution_count": 6,
     "metadata": {},
     "output_type": "execute_result"
    }
   ],
   "source": [
    "a_esti = pin.rnea(model, data, q, v, tau)\n",
    "data.v.tolist()"
   ]
  }
 ],
 "metadata": {
  "kernelspec": {
   "display_name": "simrobs",
   "language": "python",
   "name": "python3"
  },
  "language_info": {
   "codemirror_mode": {
    "name": "ipython",
    "version": 3
   },
   "file_extension": ".py",
   "mimetype": "text/x-python",
   "name": "python",
   "nbconvert_exporter": "python",
   "pygments_lexer": "ipython3",
   "version": "3.10.12"
  }
 },
 "nbformat": 4,
 "nbformat_minor": 2
}
