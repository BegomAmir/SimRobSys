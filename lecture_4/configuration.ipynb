{
 "cells": [
  {
   "cell_type": "code",
   "execution_count": 1,
   "metadata": {},
   "outputs": [],
   "source": [
    "import pinocchio as pin\n",
    "import numpy as np\n",
    "from scipy.spatial.transform import Rotation as R"
   ]
  },
  {
   "cell_type": "markdown",
   "metadata": {},
   "source": [
    "# Kinematics: configuration \n",
    "\n",
    "## Rotation\n",
    "\n",
    "Consider a physical point $p$ in a 2 dimensional <b>Euclidean space</b> $p \\in \\varepsilon (2)$. In order to work with numbers, we need to express the physical point $p$ in some <b>coordinate system</b> $\\Psi_i$ to get numbers describing $p^i$.   Figure below shows two coordinate systems $\\Psi_1$ and $\\Psi_2$ rotated with respect to each other of an angle $\\theta$, $o=o_1=0_2$ is the <b>origins</b> of the coordinate systems. Let us consider a pure rotation around $o$ in the plane and derive what will be called <b>rotation matrices</b>, which happen to belong to the <b>matrix special orthogonal group</b> $SO(2)$. "
   ]
  },
  {
   "cell_type": "code",
   "execution_count": 25,
   "metadata": {},
   "outputs": [
    {
     "data": {
      "text/plain": [
       "array([[-1.0000000e+00, -1.2246468e-16,  0.0000000e+00],\n",
       "       [ 1.2246468e-16, -1.0000000e+00,  0.0000000e+00],\n",
       "       [ 0.0000000e+00,  0.0000000e+00,  1.0000000e+00]])"
      ]
     },
     "execution_count": 25,
     "metadata": {},
     "output_type": "execute_result"
    }
   ],
   "source": [
    "r1 = R.from_euler('zyx', [np.pi, 0, 0], degrees=False)\n",
    "r1.as_matrix()"
   ]
  },
  {
   "cell_type": "code",
   "execution_count": 26,
   "metadata": {},
   "outputs": [
    {
     "data": {
      "text/plain": [
       "array([[[ 0.,  1.,  0.],\n",
       "        [ 1.,  0.,  0.],\n",
       "        [ 0.,  0., -1.]]])"
      ]
     },
     "execution_count": 26,
     "metadata": {},
     "output_type": "execute_result"
    }
   ],
   "source": [
    "r2 = R.from_quat([[1, 1, 0, 0]])\n",
    "r2.as_matrix()"
   ]
  },
  {
   "cell_type": "markdown",
   "metadata": {},
   "source": [
    "## Homogeneius"
   ]
  },
  {
   "cell_type": "code",
   "execution_count": 12,
   "metadata": {},
   "outputs": [
    {
     "name": "stdout",
     "output_type": "stream",
     "text": [
      "  R =\n",
      " -0.615449   0.639763   0.460354\n",
      "-0.0555097  -0.617807   0.784368\n",
      "   0.78622   0.457184   0.415742\n",
      "  p =  0.898654 0.0519907 -0.827888\n",
      "\n",
      "[[-0.61544904  0.63976308  0.46035386]\n",
      " [-0.0555097  -0.61780713  0.78436792]\n",
      " [ 0.78621953  0.45718438  0.41574186]]\n",
      "[ 0.89865415  0.0519907  -0.8278883 ]\n"
     ]
    }
   ],
   "source": [
    "M = pin.SE3.Random()\n",
    "print(M)\n",
    "print(M.rotation)\n",
    "print(M.translation)"
   ]
  },
  {
   "cell_type": "code",
   "execution_count": null,
   "metadata": {},
   "outputs": [],
   "source": [
    "print(M.inverse())\n",
    "print(M.action)\n",
    "print(M.homogeneous)"
   ]
  },
  {
   "cell_type": "markdown",
   "metadata": {},
   "source": [
    "## Velocities"
   ]
  },
  {
   "cell_type": "code",
   "execution_count": 13,
   "metadata": {},
   "outputs": [
    {
     "data": {
      "text/plain": [
       "array([0., 0., 1.])"
      ]
     },
     "execution_count": 13,
     "metadata": {},
     "output_type": "execute_result"
    }
   ],
   "source": [
    "v = np.array([0,0,0])\n",
    "w = np.array([0,0,1])\n",
    "m = pin.Motion(v,w)\n",
    "m.linear\n",
    "m.angular"
   ]
  }
 ],
 "metadata": {
  "kernelspec": {
   "display_name": "simrobs",
   "language": "python",
   "name": "python3"
  },
  "language_info": {
   "codemirror_mode": {
    "name": "ipython",
    "version": 3
   },
   "file_extension": ".py",
   "mimetype": "text/x-python",
   "name": "python",
   "nbconvert_exporter": "python",
   "pygments_lexer": "ipython3",
   "version": "3.10.12"
  }
 },
 "nbformat": 4,
 "nbformat_minor": 2
}
