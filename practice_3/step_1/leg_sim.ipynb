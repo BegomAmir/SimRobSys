{
 "cells": [
  {
   "cell_type": "markdown",
   "metadata": {},
   "source": [
    "# Hopping leg"
   ]
  },
  {
   "cell_type": "code",
   "execution_count": 23,
   "metadata": {},
   "outputs": [],
   "source": [
    "from os import path\n",
    "import mujoco\n",
    "import mujoco_viewer\n",
    "import numpy as np\n",
    "from matplotlib import pyplot as plt"
   ]
  },
  {
   "cell_type": "code",
   "execution_count": 24,
   "metadata": {},
   "outputs": [],
   "source": [
    "def set_torque_servo(actuator_no, flag):\n",
    "    if (flag == 0):\n",
    "        model.actuator_gainprm[actuator_no, 0] = 0\n",
    "    else:\n",
    "        model.actuator_gainprm[actuator_no, 0] = 1\n",
    "\n",
    "\n",
    "def controller(model, mjdata, q_A: float, q_B: float):\n",
    "    ID_JOINT_A = 0\n",
    "    ID_JOINT_B = 1\n",
    "    TAU_ID_A = 0\n",
    "    TAU_ID_B = 1\n",
    "    KP = 0\n",
    "    KD = 0\n",
    "\n",
    "    set_torque_servo(0, 1)\n",
    "    mjdata.ctrl[TAU_ID_A] = KP*(q_A-mjdata.qpos[ID_JOINT_A]) + KD*(0-mjdata.qvel[ID_JOINT_A])\n",
    "    mjdata.ctrl[TAU_ID_B] = KP*(q_B-mjdata.qpos[ID_JOINT_B]) + KD*(0-mjdata.qvel[ID_JOINT_B])\n",
    "\n",
    "SIMEND = 10\n",
    "TIMESTEP = 0.005\n",
    "STEP_NUM = int(SIMEND/TIMESTEP)\n",
    "MODEL_NAME = 'open_chain_leg_scene.xml'\n",
    "\n",
    "ROOT = path.abspath('')\n",
    "FOLDER_PATH = path.join(ROOT, '')\n",
    "MODEL_PATH = path.join(FOLDER_PATH, MODEL_NAME)\n",
    "\n",
    "model = mujoco.MjModel.from_xml_path(MODEL_PATH)\n",
    "data = mujoco.MjData(model)\n",
    "\n",
    "# set reference\n",
    "i = 0\n",
    "time = 0\n",
    "tt = np.linspace(0, SIMEND, STEP_NUM)\n",
    "freq = 1\n",
    "ref = [np.pi/12 * np.sin(freq * tt) + np.pi/4,\n",
    "       -np.pi/6 * np.sin(freq * tt) - np.pi/2]\n",
    "\n",
    "x_ee_all = []\n",
    "z_ee_all = []\n",
    "theta1_all = []\n",
    "theta2_all = []\n",
    "\n",
    "# set initial angles\n",
    "data.qpos[1] = 0.78  # set position\n",
    "data.qpos[2] = -1.57  # set position\n",
    "mujoco.mj_forward(model, data)"
   ]
  },
  {
   "cell_type": "code",
   "execution_count": 25,
   "metadata": {},
   "outputs": [],
   "source": [
    "viewer = mujoco_viewer.MujocoViewer(model, data,\n",
    "                                    title = \"open_chain_leg\",\n",
    "                                    width = 1920,\n",
    "                                    height = 1080)\n",
    "\n",
    "for i in range(STEP_NUM):\n",
    "    if viewer.is_alive:\n",
    "        # time_prev = data.time\n",
    "        # while (data.time - time_prev < 1.0/60.0):\n",
    "        mujoco.set_mjcb_control(controller(model, data, ref[0][i], ref[1][i]))\n",
    "        mujoco.mj_step(model, data)\n",
    "        viewer.render()\n",
    "    else:\n",
    "        print(\"pam pam\", i)\n",
    "        break\n",
    "\n",
    "viewer.close()"
   ]
  }
 ],
 "metadata": {
  "kernelspec": {
   "display_name": "simrobs",
   "language": "python",
   "name": "python3"
  },
  "language_info": {
   "codemirror_mode": {
    "name": "ipython",
    "version": 3
   },
   "file_extension": ".py",
   "mimetype": "text/x-python",
   "name": "python",
   "nbconvert_exporter": "python",
   "pygments_lexer": "ipython3",
   "version": "3.10.12"
  }
 },
 "nbformat": 4,
 "nbformat_minor": 2
}
