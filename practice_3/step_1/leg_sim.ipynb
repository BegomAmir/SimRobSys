{
 "cells": [
  {
   "cell_type": "markdown",
   "metadata": {},
   "source": [
    "# Hopping leg"
   ]
  },
  {
   "cell_type": "code",
   "execution_count": 54,
   "metadata": {},
   "outputs": [],
   "source": [
    "from os import path\n",
    "import mujoco\n",
    "import mujoco_viewer\n",
    "import numpy as np\n",
    "from matplotlib import pyplot as plt"
   ]
  },
  {
   "cell_type": "code",
   "execution_count": 55,
   "metadata": {},
   "outputs": [],
   "source": [
    "def set_torque_servo(actuator_no, flag):\n",
    "    if (flag == 0):\n",
    "        model.actuator_gainprm[actuator_no, 0] = 0\n",
    "    else:\n",
    "        model.actuator_gainprm[actuator_no, 0] = 1\n",
    "\n",
    "\n",
    "def controller(model, mjdata, qA: float, qB: float, dqA, dqB):\n",
    "    ID_JOINT_A = 1\n",
    "    ID_JOINT_B = 2\n",
    "    TAU_ID_A = 0\n",
    "    TAU_ID_B = 1\n",
    "    KP = 100\n",
    "    KD = 1\n",
    "\n",
    "    set_torque_servo(0, 1)\n",
    "    mjdata.ctrl[TAU_ID_A] = KP*(qA-mjdata.qpos[ID_JOINT_A]) + KD*(dqA-mjdata.qvel[ID_JOINT_A])\n",
    "    mjdata.ctrl[TAU_ID_B] = KP*(qB-mjdata.qpos[ID_JOINT_B]) + KD*(dqB-mjdata.qvel[ID_JOINT_B])\n",
    "\n",
    "SIMEND = 10\n",
    "TIMESTEP = 0.0005\n",
    "STEP_NUM = int(SIMEND/TIMESTEP)\n",
    "MODEL_NAME = 'open_chain_leg_scene.xml'\n",
    "\n",
    "ROOT = path.abspath('')\n",
    "FOLDER_PATH = path.join(ROOT, '')\n",
    "MODEL_PATH = path.join(FOLDER_PATH, MODEL_NAME)\n",
    "\n",
    "model = mujoco.MjModel.from_xml_path(MODEL_PATH)\n",
    "data = mujoco.MjData(model)\n",
    "\n",
    "# set reference\n",
    "tt = np.linspace(0, SIMEND, STEP_NUM)\n",
    "freq = 5\n",
    "ref = [np.pi/12 * np.sin(2*np.pi*freq * tt) + np.pi/4,\n",
    "       -np.pi/6 * np.sin(2*np.pi*freq * tt) - np.pi/2]\n",
    "ref_vel = [np.pi/12 * 2*np.pi*freq * np.cos(2*np.pi*freq * tt),\n",
    "           -np.pi/6 * 2*np.pi*freq * np.cos(2*np.pi*freq * tt)]\n",
    "\n",
    "x_ee_all = []\n",
    "z_ee_all = []\n",
    "theta1_all = []\n",
    "theta2_all = []\n",
    "\n",
    "# set initial angles\n",
    "data.qpos[1] = 0.78  # set position\n",
    "data.qpos[2] = -1.57  # set position\n",
    "mujoco.mj_forward(model, data)"
   ]
  },
  {
   "cell_type": "code",
   "execution_count": 56,
   "metadata": {},
   "outputs": [],
   "source": [
    "viewer = mujoco_viewer.MujocoViewer(model, data,\n",
    "                                    title = \"open_chain_leg\",\n",
    "                                    width = 1920,\n",
    "                                    height = 1080)\n",
    "\n",
    "for i in range(STEP_NUM):\n",
    "    if viewer.is_alive:\n",
    "        mujoco.set_mjcb_control(controller(model, data,\n",
    "                   ref[0][i], ref[1][i],\n",
    "                   ref_vel[0][i], ref_vel[1][i]))\n",
    "        mujoco.mj_step(model, data)\n",
    "        \n",
    "        viewer.render()\n",
    "    \n",
    "    else:\n",
    "        break\n",
    "\n",
    "viewer.close()"
   ]
  }
 ],
 "metadata": {
  "kernelspec": {
   "display_name": "simrobs",
   "language": "python",
   "name": "python3"
  },
  "language_info": {
   "codemirror_mode": {
    "name": "ipython",
    "version": 3
   },
   "file_extension": ".py",
   "mimetype": "text/x-python",
   "name": "python",
   "nbconvert_exporter": "python",
   "pygments_lexer": "ipython3",
   "version": "3.10.12"
  }
 },
 "nbformat": 4,
 "nbformat_minor": 2
}
