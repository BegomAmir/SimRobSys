{
 "cells": [
  {
   "cell_type": "markdown",
   "metadata": {},
   "source": [
    "# Pinocchio examples \n",
    "\n",
    "## Set up\n",
    "We will need NumPy, SciPy, and MeshCat Viewer for vizualizing the robot."
   ]
  },
  {
   "cell_type": "code",
   "execution_count": 1,
   "metadata": {},
   "outputs": [],
   "source": [
    "import pinocchio as pin\n",
    "import numpy as np\n",
    "import os\n",
    "import meshcat\n",
    "# from pinocchio.visualize import MeshcatVisualizere\n",
    "from meshcat_viewer_wrapper import MeshcatVisualizer,translation2d,planar\n"
   ]
  },
  {
   "cell_type": "markdown",
   "metadata": {},
   "source": [
    "To see an empty window"
   ]
  },
  {
   "cell_type": "code",
   "execution_count": 2,
   "metadata": {},
   "outputs": [
    {
     "name": "stdout",
     "output_type": "stream",
     "text": [
      "You can open the visualizer by visiting the following URL:\n",
      "http://127.0.0.1:7001/static/\n"
     ]
    }
   ],
   "source": [
    "viz = MeshcatVisualizer()"
   ]
  },
  {
   "cell_type": "code",
   "execution_count": 3,
   "metadata": {},
   "outputs": [],
   "source": [
    "cylID = 'world/cyl';   viz.addCylinder(cylID,length=1,radius=.1,color=[0,.5,1,1])\n",
    "boxID = 'world/box';   viz.addBox(boxID,[.5,.2,.4],[1,.25,0,1])\n",
    "\n",
    "viz.applyConfiguration(boxID,planar(0.1, 0.2, np.pi / 3))\n",
    "viz.applyConfiguration(cylID,planar(0.1, 0.2, 5*np.pi / 6))"
   ]
  }
 ],
 "metadata": {
  "kernelspec": {
   "display_name": "simrobs",
   "language": "python",
   "name": "python3"
  },
  "language_info": {
   "codemirror_mode": {
    "name": "ipython",
    "version": 3
   },
   "file_extension": ".py",
   "mimetype": "text/x-python",
   "name": "python",
   "nbconvert_exporter": "python",
   "pygments_lexer": "ipython3",
   "version": "3.10.12"
  }
 },
 "nbformat": 4,
 "nbformat_minor": 2
}
