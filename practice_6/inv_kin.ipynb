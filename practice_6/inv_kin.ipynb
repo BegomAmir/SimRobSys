{
 "cells": [
  {
   "cell_type": "markdown",
   "metadata": {},
   "source": [
    "# Inverse kinematics\n",
    "\n",
    "This example shows how to solve the inverse kinematics problem for the right foot treated as end effector. The example employs s simple Jacobian-based iterative algorithm, which is called closed-loop kinematics (CLIK).\n",
    "\n",
    "The script is needed to compute parameters for SRDF.\n",
    "\n",
    "REF: https://gepettoweb.laas.fr/doc/stack-of-tasks/pinocchio/master/doxygen-html/md_doc_b-examples_d-inverse-kinematics.html"
   ]
  },
  {
   "cell_type": "markdown",
   "metadata": {},
   "source": [
    "# Libraries\n",
    "\n",
    "As the first step we need to import the necessary libraries and create the Pinocchio Model and Data objects. Here we use URDF to build the model."
   ]
  },
  {
   "cell_type": "code",
   "execution_count": 1,
   "metadata": {},
   "outputs": [],
   "source": [
    "import os\n",
    "import numpy as np\n",
    "from numpy.linalg import norm, solve\n",
    "import pinocchio\n",
    "from pinocchio.visualize import MeshcatVisualizer\n",
    "\n",
    "URDF = os.path.join(os.path.abspath(''), \"h1_description/h1.urdf\")\n",
    "MESH = os.path.join(os.path.abspath(''), \"\")\n",
    "robot = pinocchio.RobotWrapper.BuildFromURDF(URDF,MESH)\n",
    "model = robot.model\n",
    "data = model.createData()"
   ]
  },
  {
   "cell_type": "markdown",
   "metadata": {},
   "source": [
    "# Visualization\n",
    "\n",
    "Within this example we use meshcat to visualize the model and its state. "
   ]
  },
  {
   "cell_type": "code",
   "execution_count": 2,
   "metadata": {},
   "outputs": [
    {
     "name": "stdout",
     "output_type": "stream",
     "text": [
      "You can open the visualizer by visiting the following URL:\n",
      "http://127.0.0.1:7001/static/\n",
      "find_ffmpeg failed, using the integrated library.\n",
      "Opening in existing browser session.\n"
     ]
    }
   ],
   "source": [
    "viz = MeshcatVisualizer(model, robot.collision_model, robot.visual_model)\n",
    "viz.initViewer(open=True)\n",
    "viz.loadViewerModel()\n",
    "q0 = pinocchio.neutral(model)\n",
    "viz.display(q0)\n",
    "viz.displayVisuals(True)"
   ]
  },
  {
   "cell_type": "markdown",
   "metadata": {},
   "source": [
    "The end effector corresponds to 'left_ankle_link'"
   ]
  },
  {
   "cell_type": "code",
   "execution_count": 3,
   "metadata": {},
   "outputs": [],
   "source": [
    "EE_NAME = 'left_ankle_link'\n",
    "EE_ID = model.getFrameId(EE_NAME)"
   ]
  },
  {
   "cell_type": "markdown",
   "metadata": {},
   "source": [
    "and its desired pose is given as"
   ]
  },
  {
   "cell_type": "code",
   "execution_count": 4,
   "metadata": {},
   "outputs": [],
   "source": [
    "oMdes = pinocchio.SE3(np.eye(3), np.array([.039468, .20286, -.75]))"
   ]
  },
  {
   "cell_type": "markdown",
   "metadata": {},
   "source": [
    "Next, we define an initial configuration. This is the starting point of the algorithm. A priori, any valid configuration would work. We decided to use the robot's neutral configuration, returned by algorithm neutral. For an open chain as the one in this case, it simply corresponds to an all-zero vector, but using this method generalizes well to more complex kinds of robots, ensuring validity."
   ]
  },
  {
   "cell_type": "code",
   "execution_count": 5,
   "metadata": {},
   "outputs": [],
   "source": [
    "q = pinocchio.neutral(model)"
   ]
  },
  {
   "cell_type": "markdown",
   "metadata": {},
   "source": [
    "Next, we set some computation-related values corresponding to the desired position precision (we will see later what it exactly means), a maximum number of iterations (to avoid infinite looping in case the position is not reachable), a positive \"time step\" defining the convergence rate, and a fixed damping factor for the pseudoinversion (see below)."
   ]
  },
  {
   "cell_type": "code",
   "execution_count": 6,
   "metadata": {},
   "outputs": [],
   "source": [
    "eps = 1e-2\n",
    "IT_MAX = 1000\n",
    "DT = 1e-1\n",
    "damp = 1e-3"
   ]
  },
  {
   "cell_type": "markdown",
   "metadata": {},
   "source": [
    "Then, we begin the iterative process."
   ]
  },
  {
   "cell_type": "code",
   "execution_count": 7,
   "metadata": {},
   "outputs": [
    {
     "name": "stdout",
     "output_type": "stream",
     "text": [
      "0: error = [0.00000000e+00 2.77555756e-17 2.24200000e-01 0.00000000e+00\n",
      " 0.00000000e+00 0.00000000e+00]\n",
      "10: error = [ 3.47973973e-06 -7.80128980e-03  2.22885722e-01 -1.13595655e-02\n",
      " -2.08480438e-06  3.28197637e-04]\n",
      "20: error = [ 3.97928468e-06 -4.47106953e-03  1.05652731e-01 -7.12018001e-03\n",
      " -3.43932535e-04  1.95672178e-04]\n",
      "30: error = [ 1.15229639e-06 -1.55551785e-03  3.75233071e-02 -2.62012361e-03\n",
      " -2.06120819e-04  6.81231548e-05]\n",
      "40: error = [ 2.46065250e-07 -5.50408348e-04  1.33568075e-02 -9.46488465e-04\n",
      " -9.93274508e-05  2.40676524e-05]\n",
      "Convergence achieved!\n",
      "\n",
      "result: [-1.767081754997438e-05, 0.0006964058793829477, -0.7493938077395171, 1.4987963822508579, -0.7493242191876197, 0.0, 0.0, 0.0, 0.0, 0.0, 0.0, 0.0, 0.0, 0.0, 0.0, 0.0, 0.0, 0.0, 0.0]\n",
      "\n",
      "final error: [ 1.41272067e-07 -4.03733047e-04  9.79882407e-03 -6.96406571e-04\n",
      " -7.83491675e-05  1.76435333e-05]\n"
     ]
    }
   ],
   "source": [
    "i = 0\n",
    "while True:\n",
    "    # At each iteration, we begin by computing the forward kinematics\n",
    "    pinocchio.framesForwardKinematics(model, data, q)\n",
    "    # Next, we compute the error between the desired pose d and \n",
    "    # the current one i, expressed in the current joint frame i:\n",
    "    iMd = data.oMf[EE_ID].actInv(oMdes)\n",
    "    err = pinocchio.log(iMd).vector # in joint frame\n",
    "    if norm(err) < eps:\n",
    "        success = True\n",
    "        break\n",
    "    if i >= IT_MAX:\n",
    "        success = False\n",
    "        break\n",
    "    J = pinocchio.computeFrameJacobian(model, data, q, EE_ID)\n",
    "    J = -np.dot(pinocchio.Jlog6(iMd.inverse()), J)\n",
    "    v = -J.T.dot(solve(J.dot(J.T) + damp * np.eye(6), err))\n",
    "    q = pinocchio.integrate(model, q, v * DT)\n",
    "    if not i % 10:\n",
    "        print(\"%d: error = %s\" % (i, err.T))\n",
    "    viz.display(q)\n",
    "    viz.sleep(0.05)\n",
    "    i += 1\n",
    "\n",
    "if success:\n",
    "    print(\"Convergence achieved!\")\n",
    "else:\n",
    "    print(\n",
    "        \"\\nWarning: the iterative algorithm has not reached convergence to the desired precision\"\n",
    "    )\n",
    "\n",
    "print(\"\\nresult: %s\" % q.flatten().tolist())\n",
    "print(\"\\nfinal error: %s\" % err.T)"
   ]
  }
 ],
 "metadata": {
  "kernelspec": {
   "display_name": "simrobs",
   "language": "python",
   "name": "python3"
  },
  "language_info": {
   "codemirror_mode": {
    "name": "ipython",
    "version": 3
   },
   "file_extension": ".py",
   "mimetype": "text/x-python",
   "name": "python",
   "nbconvert_exporter": "python",
   "pygments_lexer": "ipython3",
   "version": "3.10.12"
  }
 },
 "nbformat": 4,
 "nbformat_minor": 2
}
